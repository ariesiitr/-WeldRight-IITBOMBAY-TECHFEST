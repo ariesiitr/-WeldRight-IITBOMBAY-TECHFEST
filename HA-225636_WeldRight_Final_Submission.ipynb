{
 "cells": [
  {
   "cell_type": "markdown",
   "id": "051dfed9",
   "metadata": {
    "id": "051dfed9"
   },
   "source": [
    "# *IMPORTING USEFUL LIBRARIES*"
   ]
  },
  {
   "cell_type": "code",
   "execution_count": null,
   "id": "1ba26e44",
   "metadata": {
    "id": "1ba26e44"
   },
   "outputs": [],
   "source": [
    "import pandas as pd\n",
    "import seaborn as sns\n",
    "import matplotlib.pyplot as plt\n",
    "import numpy as np\n",
    "import scipy.stats as stats"
   ]
  },
  {
   "cell_type": "markdown",
   "id": "302ad2d0",
   "metadata": {
    "id": "302ad2d0"
   },
   "source": [
    "# *DATA ANALYSIS*"
   ]
  },
  {
   "cell_type": "markdown",
   "id": "bfe01b12",
   "metadata": {
    "id": "bfe01b12"
   },
   "source": [
    "### *Importing Data*"
   ]
  },
  {
   "cell_type": "code",
   "execution_count": null,
   "id": "nOcWQiD3yJ3E",
   "metadata": {
    "colab": {
     "base_uri": "https://localhost:8080/"
    },
    "executionInfo": {
     "elapsed": 24758,
     "status": "ok",
     "timestamp": 1670000536926,
     "user": {
      "displayName": "KUMAR AMAN",
      "userId": "15083373476895626314"
     },
     "user_tz": -330
    },
    "id": "nOcWQiD3yJ3E",
    "outputId": "e39567bb-7e72-4f20-8f8d-6bfac055cbd7"
   },
   "outputs": [
    {
     "name": "stdout",
     "output_type": "stream",
     "text": [
      "Mounted at /content/drive\n"
     ]
    }
   ],
   "source": [
    "from google.colab import drive\n",
    "drive.mount('/content/drive')"
   ]
  },
  {
   "cell_type": "code",
   "execution_count": null,
   "id": "YoFLpZMLyO8r",
   "metadata": {
    "id": "YoFLpZMLyO8r"
   },
   "outputs": [],
   "source": [
    "read_file = pd.read_excel (\"/content/drive/MyDrive/kaggle_dataset/WeldRight Dataset(1).xlsx\")\n",
    "read_file.to_csv (\"Test.csv\", index = None, header=True)"
   ]
  },
  {
   "cell_type": "code",
   "execution_count": null,
   "id": "e1d77c0c",
   "metadata": {
    "colab": {
     "base_uri": "https://localhost:8080/"
    },
    "executionInfo": {
     "elapsed": 6576,
     "status": "ok",
     "timestamp": 1670000996330,
     "user": {
      "displayName": "KUMAR AMAN",
      "userId": "15083373476895626314"
     },
     "user_tz": -330
    },
    "id": "e1d77c0c",
    "outputId": "ff920066-7214-40d7-f177-84bd56d1cac1"
   },
   "outputs": [
    {
     "name": "stderr",
     "output_type": "stream",
     "text": [
      "/usr/local/lib/python3.8/dist-packages/IPython/core/interactiveshell.py:3326: DtypeWarning: Columns (0,2,3,6,7,8,9,10,11,22,27,32,37,42,47,52,57,62,67,72,77,82,87) have mixed types.Specify dtype option on import or set low_memory=False.\n",
      "  exec(code_obj, self.user_global_ns, self.user_ns)\n"
     ]
    }
   ],
   "source": [
    "data =pd.read_csv(\"Test.csv\")"
   ]
  },
  {
   "cell_type": "code",
   "execution_count": null,
   "id": "SdqPEHW3yopk",
   "metadata": {
    "id": "SdqPEHW3yopk"
   },
   "outputs": [],
   "source": [
    "data.loc[data['Defect'] == 'No Defect' , 'Defects'] = 'No Defect'\n",
    "data.loc[data['Defect'] != 'No Defect' , 'Defects'] = 'Defect'"
   ]
  },
  {
   "cell_type": "code",
   "execution_count": null,
   "id": "51efb670",
   "metadata": {
    "colab": {
     "base_uri": "https://localhost:8080/",
     "height": 560
    },
    "executionInfo": {
     "elapsed": 4,
     "status": "ok",
     "timestamp": 1670001006102,
     "user": {
      "displayName": "KUMAR AMAN",
      "userId": "15083373476895626314"
     },
     "user_tz": -330
    },
    "id": "51efb670",
    "outputId": "c4dbcc7c-3e94-4710-80d7-03ab52635b19"
   },
   "outputs": [
    {
     "data": {
      "text/html": [
       "\n",
       "  <div id=\"df-358577d5-b510-4557-952d-4fe3b2104ca1\">\n",
       "    <div class=\"colab-df-container\">\n",
       "      <div>\n",
       "<style scoped>\n",
       "    .dataframe tbody tr th:only-of-type {\n",
       "        vertical-align: middle;\n",
       "    }\n",
       "\n",
       "    .dataframe tbody tr th {\n",
       "        vertical-align: top;\n",
       "    }\n",
       "\n",
       "    .dataframe thead th {\n",
       "        text-align: right;\n",
       "    }\n",
       "</style>\n",
       "<table border=\"1\" class=\"dataframe\">\n",
       "  <thead>\n",
       "    <tr style=\"text-align: right;\">\n",
       "      <th></th>\n",
       "      <th>Employee Code</th>\n",
       "      <th>Machine</th>\n",
       "      <th>Production</th>\n",
       "      <th>Order Operation No</th>\n",
       "      <th>Date</th>\n",
       "      <th>Time</th>\n",
       "      <th>Current</th>\n",
       "      <th>Humidity</th>\n",
       "      <th>Temperature</th>\n",
       "      <th>Flow</th>\n",
       "      <th>...</th>\n",
       "      <th>Unnamed: 79</th>\n",
       "      <th>Unnamed: 80</th>\n",
       "      <th>Unnamed: 81</th>\n",
       "      <th>Unnamed: 82</th>\n",
       "      <th>Unnamed: 83</th>\n",
       "      <th>Unnamed: 84</th>\n",
       "      <th>Unnamed: 85</th>\n",
       "      <th>Unnamed: 86</th>\n",
       "      <th>Unnamed: 87</th>\n",
       "      <th>Defects</th>\n",
       "    </tr>\n",
       "  </thead>\n",
       "  <tbody>\n",
       "    <tr>\n",
       "      <th>0</th>\n",
       "      <td>(Office id of employee)</td>\n",
       "      <td>(Welding machine name)</td>\n",
       "      <td>(Project order number)</td>\n",
       "      <td>(This captures the activity to be performed by...</td>\n",
       "      <td>(date of activity)</td>\n",
       "      <td>(Timestamp for the activity)</td>\n",
       "      <td>(In Ampere)</td>\n",
       "      <td>(Relative humidity in %)</td>\n",
       "      <td>(in degree celsius)</td>\n",
       "      <td>(in liters per min (LPM))</td>\n",
       "      <td>...</td>\n",
       "      <td>NaN</td>\n",
       "      <td>NaN</td>\n",
       "      <td>NaN</td>\n",
       "      <td>NaN</td>\n",
       "      <td>NaN</td>\n",
       "      <td>NaN</td>\n",
       "      <td>NaN</td>\n",
       "      <td>NaN</td>\n",
       "      <td>NaN</td>\n",
       "      <td>Defect</td>\n",
       "    </tr>\n",
       "    <tr>\n",
       "      <th>1</th>\n",
       "      <td>382617</td>\n",
       "      <td>TWLD23</td>\n",
       "      <td>E15002965</td>\n",
       "      <td>240</td>\n",
       "      <td>2022-09-10 00:00:00</td>\n",
       "      <td>7:32:28:527</td>\n",
       "      <td>1.13</td>\n",
       "      <td>74</td>\n",
       "      <td>23</td>\n",
       "      <td>0.01</td>\n",
       "      <td>...</td>\n",
       "      <td>NaN</td>\n",
       "      <td>NaN</td>\n",
       "      <td>NaN</td>\n",
       "      <td>NaN</td>\n",
       "      <td>NaN</td>\n",
       "      <td>NaN</td>\n",
       "      <td>NaN</td>\n",
       "      <td>NaN</td>\n",
       "      <td>NaN</td>\n",
       "      <td>No Defect</td>\n",
       "    </tr>\n",
       "    <tr>\n",
       "      <th>2</th>\n",
       "      <td>382617</td>\n",
       "      <td>TWLD23</td>\n",
       "      <td>E15002965</td>\n",
       "      <td>240</td>\n",
       "      <td>2022-09-10 00:00:00</td>\n",
       "      <td>7:32:29:40</td>\n",
       "      <td>1.81999999999999</td>\n",
       "      <td>74</td>\n",
       "      <td>23</td>\n",
       "      <td>0</td>\n",
       "      <td>...</td>\n",
       "      <td>NaN</td>\n",
       "      <td>NaN</td>\n",
       "      <td>NaN</td>\n",
       "      <td>NaN</td>\n",
       "      <td>NaN</td>\n",
       "      <td>NaN</td>\n",
       "      <td>NaN</td>\n",
       "      <td>NaN</td>\n",
       "      <td>NaN</td>\n",
       "      <td>Defect</td>\n",
       "    </tr>\n",
       "    <tr>\n",
       "      <th>3</th>\n",
       "      <td>382617</td>\n",
       "      <td>TWLD23</td>\n",
       "      <td>E15002965</td>\n",
       "      <td>240</td>\n",
       "      <td>2022-09-10 00:00:00</td>\n",
       "      <td>7:32:29:677</td>\n",
       "      <td>2.91</td>\n",
       "      <td>74</td>\n",
       "      <td>23</td>\n",
       "      <td>0</td>\n",
       "      <td>...</td>\n",
       "      <td>NaN</td>\n",
       "      <td>NaN</td>\n",
       "      <td>NaN</td>\n",
       "      <td>NaN</td>\n",
       "      <td>NaN</td>\n",
       "      <td>NaN</td>\n",
       "      <td>NaN</td>\n",
       "      <td>NaN</td>\n",
       "      <td>NaN</td>\n",
       "      <td>No Defect</td>\n",
       "    </tr>\n",
       "    <tr>\n",
       "      <th>4</th>\n",
       "      <td>382617</td>\n",
       "      <td>TWLD23</td>\n",
       "      <td>E15002965</td>\n",
       "      <td>240</td>\n",
       "      <td>2022-09-10 00:00:00</td>\n",
       "      <td>7:32:30:166</td>\n",
       "      <td>0.04</td>\n",
       "      <td>74</td>\n",
       "      <td>23</td>\n",
       "      <td>0</td>\n",
       "      <td>...</td>\n",
       "      <td>NaN</td>\n",
       "      <td>NaN</td>\n",
       "      <td>NaN</td>\n",
       "      <td>NaN</td>\n",
       "      <td>NaN</td>\n",
       "      <td>NaN</td>\n",
       "      <td>NaN</td>\n",
       "      <td>NaN</td>\n",
       "      <td>NaN</td>\n",
       "      <td>No Defect</td>\n",
       "    </tr>\n",
       "  </tbody>\n",
       "</table>\n",
       "<p>5 rows × 89 columns</p>\n",
       "</div>\n",
       "      <button class=\"colab-df-convert\" onclick=\"convertToInteractive('df-358577d5-b510-4557-952d-4fe3b2104ca1')\"\n",
       "              title=\"Convert this dataframe to an interactive table.\"\n",
       "              style=\"display:none;\">\n",
       "        \n",
       "  <svg xmlns=\"http://www.w3.org/2000/svg\" height=\"24px\"viewBox=\"0 0 24 24\"\n",
       "       width=\"24px\">\n",
       "    <path d=\"M0 0h24v24H0V0z\" fill=\"none\"/>\n",
       "    <path d=\"M18.56 5.44l.94 2.06.94-2.06 2.06-.94-2.06-.94-.94-2.06-.94 2.06-2.06.94zm-11 1L8.5 8.5l.94-2.06 2.06-.94-2.06-.94L8.5 2.5l-.94 2.06-2.06.94zm10 10l.94 2.06.94-2.06 2.06-.94-2.06-.94-.94-2.06-.94 2.06-2.06.94z\"/><path d=\"M17.41 7.96l-1.37-1.37c-.4-.4-.92-.59-1.43-.59-.52 0-1.04.2-1.43.59L10.3 9.45l-7.72 7.72c-.78.78-.78 2.05 0 2.83L4 21.41c.39.39.9.59 1.41.59.51 0 1.02-.2 1.41-.59l7.78-7.78 2.81-2.81c.8-.78.8-2.07 0-2.86zM5.41 20L4 18.59l7.72-7.72 1.47 1.35L5.41 20z\"/>\n",
       "  </svg>\n",
       "      </button>\n",
       "      \n",
       "  <style>\n",
       "    .colab-df-container {\n",
       "      display:flex;\n",
       "      flex-wrap:wrap;\n",
       "      gap: 12px;\n",
       "    }\n",
       "\n",
       "    .colab-df-convert {\n",
       "      background-color: #E8F0FE;\n",
       "      border: none;\n",
       "      border-radius: 50%;\n",
       "      cursor: pointer;\n",
       "      display: none;\n",
       "      fill: #1967D2;\n",
       "      height: 32px;\n",
       "      padding: 0 0 0 0;\n",
       "      width: 32px;\n",
       "    }\n",
       "\n",
       "    .colab-df-convert:hover {\n",
       "      background-color: #E2EBFA;\n",
       "      box-shadow: 0px 1px 2px rgba(60, 64, 67, 0.3), 0px 1px 3px 1px rgba(60, 64, 67, 0.15);\n",
       "      fill: #174EA6;\n",
       "    }\n",
       "\n",
       "    [theme=dark] .colab-df-convert {\n",
       "      background-color: #3B4455;\n",
       "      fill: #D2E3FC;\n",
       "    }\n",
       "\n",
       "    [theme=dark] .colab-df-convert:hover {\n",
       "      background-color: #434B5C;\n",
       "      box-shadow: 0px 1px 3px 1px rgba(0, 0, 0, 0.15);\n",
       "      filter: drop-shadow(0px 1px 2px rgba(0, 0, 0, 0.3));\n",
       "      fill: #FFFFFF;\n",
       "    }\n",
       "  </style>\n",
       "\n",
       "      <script>\n",
       "        const buttonEl =\n",
       "          document.querySelector('#df-358577d5-b510-4557-952d-4fe3b2104ca1 button.colab-df-convert');\n",
       "        buttonEl.style.display =\n",
       "          google.colab.kernel.accessAllowed ? 'block' : 'none';\n",
       "\n",
       "        async function convertToInteractive(key) {\n",
       "          const element = document.querySelector('#df-358577d5-b510-4557-952d-4fe3b2104ca1');\n",
       "          const dataTable =\n",
       "            await google.colab.kernel.invokeFunction('convertToInteractive',\n",
       "                                                     [key], {});\n",
       "          if (!dataTable) return;\n",
       "\n",
       "          const docLinkHtml = 'Like what you see? Visit the ' +\n",
       "            '<a target=\"_blank\" href=https://colab.research.google.com/notebooks/data_table.ipynb>data table notebook</a>'\n",
       "            + ' to learn more about interactive tables.';\n",
       "          element.innerHTML = '';\n",
       "          dataTable['output_type'] = 'display_data';\n",
       "          await google.colab.output.renderOutput(dataTable, element);\n",
       "          const docLink = document.createElement('div');\n",
       "          docLink.innerHTML = docLinkHtml;\n",
       "          element.appendChild(docLink);\n",
       "        }\n",
       "      </script>\n",
       "    </div>\n",
       "  </div>\n",
       "  "
      ],
      "text/plain": [
       "             Employee Code                 Machine              Production  \\\n",
       "0  (Office id of employee)  (Welding machine name)  (Project order number)   \n",
       "1                   382617                  TWLD23               E15002965   \n",
       "2                   382617                  TWLD23               E15002965   \n",
       "3                   382617                  TWLD23               E15002965   \n",
       "4                   382617                  TWLD23               E15002965   \n",
       "\n",
       "                                  Order Operation No                 Date  \\\n",
       "0  (This captures the activity to be performed by...   (date of activity)   \n",
       "1                                                240  2022-09-10 00:00:00   \n",
       "2                                                240  2022-09-10 00:00:00   \n",
       "3                                                240  2022-09-10 00:00:00   \n",
       "4                                                240  2022-09-10 00:00:00   \n",
       "\n",
       "                           Time           Current                  Humidity  \\\n",
       "0  (Timestamp for the activity)       (In Ampere)  (Relative humidity in %)   \n",
       "1                   7:32:28:527              1.13                        74   \n",
       "2                    7:32:29:40  1.81999999999999                        74   \n",
       "3                   7:32:29:677              2.91                        74   \n",
       "4                   7:32:30:166              0.04                        74   \n",
       "\n",
       "           Temperature                       Flow  ... Unnamed: 79  \\\n",
       "0  (in degree celsius)  (in liters per min (LPM))  ...         NaN   \n",
       "1                   23                       0.01  ...         NaN   \n",
       "2                   23                          0  ...         NaN   \n",
       "3                   23                          0  ...         NaN   \n",
       "4                   23                          0  ...         NaN   \n",
       "\n",
       "  Unnamed: 80 Unnamed: 81  Unnamed: 82  Unnamed: 83  Unnamed: 84  Unnamed: 85  \\\n",
       "0         NaN         NaN          NaN          NaN          NaN          NaN   \n",
       "1         NaN         NaN          NaN          NaN          NaN          NaN   \n",
       "2         NaN         NaN          NaN          NaN          NaN          NaN   \n",
       "3         NaN         NaN          NaN          NaN          NaN          NaN   \n",
       "4         NaN         NaN          NaN          NaN          NaN          NaN   \n",
       "\n",
       "   Unnamed: 86  Unnamed: 87    Defects  \n",
       "0          NaN          NaN     Defect  \n",
       "1          NaN          NaN  No Defect  \n",
       "2          NaN          NaN     Defect  \n",
       "3          NaN          NaN  No Defect  \n",
       "4          NaN          NaN  No Defect  \n",
       "\n",
       "[5 rows x 89 columns]"
      ]
     },
     "execution_count": 26,
     "metadata": {},
     "output_type": "execute_result"
    }
   ],
   "source": [
    "data.head()"
   ]
  },
  {
   "cell_type": "markdown",
   "id": "3f76bc22",
   "metadata": {
    "id": "3f76bc22"
   },
   "source": [
    "### *Dropping Unwanted Coloumns*"
   ]
  },
  {
   "cell_type": "code",
   "execution_count": null,
   "id": "73a07191",
   "metadata": {
    "id": "73a07191"
   },
   "outputs": [],
   "source": [
    "data.drop([ 'Unnamed: 13','Unnamed: 14', 'Unnamed: 15',\n",
    "       'Unnamed: 16', 'Unnamed: 17', 'Unnamed: 18', 'Unnamed: 19',\n",
    "       'Unnamed: 20', 'Unnamed: 21', 'Unnamed: 22', 'Unnamed: 23',\n",
    "       'Unnamed: 24', 'Unnamed: 25', 'Unnamed: 26', 'Unnamed: 27',\n",
    "       'Unnamed: 28', 'Unnamed: 29', 'Unnamed: 30', 'Unnamed: 31',\n",
    "       'Unnamed: 32', 'Unnamed: 33', 'Unnamed: 34', 'Unnamed: 35',\n",
    "       'Unnamed: 36', 'Unnamed: 37', 'Unnamed: 38', 'Unnamed: 39',\n",
    "       'Unnamed: 40', 'Unnamed: 41', 'Unnamed: 42', 'Unnamed: 43',\n",
    "       'Unnamed: 44', 'Unnamed: 45', 'Unnamed: 46', 'Unnamed: 47',\n",
    "       'Unnamed: 48', 'Unnamed: 49', 'Unnamed: 50', 'Unnamed: 51',\n",
    "       'Unnamed: 52', 'Unnamed: 53', 'Unnamed: 54', 'Unnamed: 55',\n",
    "       'Unnamed: 56', 'Unnamed: 57', 'Unnamed: 58', 'Unnamed: 59',\n",
    "       'Unnamed: 60', 'Unnamed: 61', 'Unnamed: 62', 'Unnamed: 63',\n",
    "       'Unnamed: 64', 'Unnamed: 65', 'Unnamed: 66', 'Unnamed: 67',\n",
    "       'Unnamed: 68', 'Unnamed: 69', 'Unnamed: 70', 'Unnamed: 71',\n",
    "       'Unnamed: 72', 'Unnamed: 73', 'Unnamed: 74', 'Unnamed: 75',\n",
    "       'Unnamed: 76', 'Unnamed: 77', 'Unnamed: 78', 'Unnamed: 79',\n",
    "       'Unnamed: 80', 'Unnamed: 81', 'Unnamed: 82', 'Unnamed: 83',\n",
    "       'Unnamed: 84', 'Unnamed: 85', 'Unnamed: 86', 'Unnamed: 87'],axis=1,inplace=True)"
   ]
  },
  {
   "cell_type": "code",
   "execution_count": null,
   "id": "0ff371cb",
   "metadata": {
    "id": "0ff371cb"
   },
   "outputs": [],
   "source": [
    "data.drop(0,axis=0,inplace=True)"
   ]
  },
  {
   "cell_type": "code",
   "execution_count": null,
   "id": "ba64786b",
   "metadata": {
    "colab": {
     "base_uri": "https://localhost:8080/",
     "height": 458
    },
    "executionInfo": {
     "elapsed": 3,
     "status": "ok",
     "timestamp": 1670001023516,
     "user": {
      "displayName": "KUMAR AMAN",
      "userId": "15083373476895626314"
     },
     "user_tz": -330
    },
    "id": "ba64786b",
    "outputId": "3d55d507-af00-4a75-af56-b4d4beca8eb6"
   },
   "outputs": [
    {
     "data": {
      "text/html": [
       "\n",
       "  <div id=\"df-7c3aaa6f-9429-4c74-b4b4-f240bd9f0431\">\n",
       "    <div class=\"colab-df-container\">\n",
       "      <div>\n",
       "<style scoped>\n",
       "    .dataframe tbody tr th:only-of-type {\n",
       "        vertical-align: middle;\n",
       "    }\n",
       "\n",
       "    .dataframe tbody tr th {\n",
       "        vertical-align: top;\n",
       "    }\n",
       "\n",
       "    .dataframe thead th {\n",
       "        text-align: right;\n",
       "    }\n",
       "</style>\n",
       "<table border=\"1\" class=\"dataframe\">\n",
       "  <thead>\n",
       "    <tr style=\"text-align: right;\">\n",
       "      <th></th>\n",
       "      <th>Employee Code</th>\n",
       "      <th>Machine</th>\n",
       "      <th>Production</th>\n",
       "      <th>Order Operation No</th>\n",
       "      <th>Date</th>\n",
       "      <th>Time</th>\n",
       "      <th>Current</th>\n",
       "      <th>Humidity</th>\n",
       "      <th>Temperature</th>\n",
       "      <th>Flow</th>\n",
       "      <th>Job Temp</th>\n",
       "      <th>Voltage</th>\n",
       "      <th>Defect</th>\n",
       "      <th>Defects</th>\n",
       "    </tr>\n",
       "  </thead>\n",
       "  <tbody>\n",
       "    <tr>\n",
       "      <th>1</th>\n",
       "      <td>382617</td>\n",
       "      <td>TWLD23</td>\n",
       "      <td>E15002965</td>\n",
       "      <td>240</td>\n",
       "      <td>2022-09-10 00:00:00</td>\n",
       "      <td>7:32:28:527</td>\n",
       "      <td>1.13</td>\n",
       "      <td>74</td>\n",
       "      <td>23</td>\n",
       "      <td>0.01</td>\n",
       "      <td>29.3</td>\n",
       "      <td>15.2</td>\n",
       "      <td>No Defect</td>\n",
       "      <td>No Defect</td>\n",
       "    </tr>\n",
       "    <tr>\n",
       "      <th>2</th>\n",
       "      <td>382617</td>\n",
       "      <td>TWLD23</td>\n",
       "      <td>E15002965</td>\n",
       "      <td>240</td>\n",
       "      <td>2022-09-10 00:00:00</td>\n",
       "      <td>7:32:29:40</td>\n",
       "      <td>1.81999999999999</td>\n",
       "      <td>74</td>\n",
       "      <td>23</td>\n",
       "      <td>0</td>\n",
       "      <td>29.3</td>\n",
       "      <td>0</td>\n",
       "      <td>Tungsten Inclusion</td>\n",
       "      <td>Defect</td>\n",
       "    </tr>\n",
       "    <tr>\n",
       "      <th>3</th>\n",
       "      <td>382617</td>\n",
       "      <td>TWLD23</td>\n",
       "      <td>E15002965</td>\n",
       "      <td>240</td>\n",
       "      <td>2022-09-10 00:00:00</td>\n",
       "      <td>7:32:29:677</td>\n",
       "      <td>2.91</td>\n",
       "      <td>74</td>\n",
       "      <td>23</td>\n",
       "      <td>0</td>\n",
       "      <td>29.3</td>\n",
       "      <td>0</td>\n",
       "      <td>No Defect</td>\n",
       "      <td>No Defect</td>\n",
       "    </tr>\n",
       "    <tr>\n",
       "      <th>4</th>\n",
       "      <td>382617</td>\n",
       "      <td>TWLD23</td>\n",
       "      <td>E15002965</td>\n",
       "      <td>240</td>\n",
       "      <td>2022-09-10 00:00:00</td>\n",
       "      <td>7:32:30:166</td>\n",
       "      <td>0.04</td>\n",
       "      <td>74</td>\n",
       "      <td>23</td>\n",
       "      <td>0</td>\n",
       "      <td>29.3</td>\n",
       "      <td>0</td>\n",
       "      <td>No Defect</td>\n",
       "      <td>No Defect</td>\n",
       "    </tr>\n",
       "    <tr>\n",
       "      <th>5</th>\n",
       "      <td>382617</td>\n",
       "      <td>TWLD23</td>\n",
       "      <td>E15002965</td>\n",
       "      <td>240</td>\n",
       "      <td>2022-09-10 00:00:00</td>\n",
       "      <td>7:32:30:696</td>\n",
       "      <td>2.51</td>\n",
       "      <td>74</td>\n",
       "      <td>23</td>\n",
       "      <td>0</td>\n",
       "      <td>27.8</td>\n",
       "      <td>0</td>\n",
       "      <td>No Defect</td>\n",
       "      <td>No Defect</td>\n",
       "    </tr>\n",
       "  </tbody>\n",
       "</table>\n",
       "</div>\n",
       "      <button class=\"colab-df-convert\" onclick=\"convertToInteractive('df-7c3aaa6f-9429-4c74-b4b4-f240bd9f0431')\"\n",
       "              title=\"Convert this dataframe to an interactive table.\"\n",
       "              style=\"display:none;\">\n",
       "        \n",
       "  <svg xmlns=\"http://www.w3.org/2000/svg\" height=\"24px\"viewBox=\"0 0 24 24\"\n",
       "       width=\"24px\">\n",
       "    <path d=\"M0 0h24v24H0V0z\" fill=\"none\"/>\n",
       "    <path d=\"M18.56 5.44l.94 2.06.94-2.06 2.06-.94-2.06-.94-.94-2.06-.94 2.06-2.06.94zm-11 1L8.5 8.5l.94-2.06 2.06-.94-2.06-.94L8.5 2.5l-.94 2.06-2.06.94zm10 10l.94 2.06.94-2.06 2.06-.94-2.06-.94-.94-2.06-.94 2.06-2.06.94z\"/><path d=\"M17.41 7.96l-1.37-1.37c-.4-.4-.92-.59-1.43-.59-.52 0-1.04.2-1.43.59L10.3 9.45l-7.72 7.72c-.78.78-.78 2.05 0 2.83L4 21.41c.39.39.9.59 1.41.59.51 0 1.02-.2 1.41-.59l7.78-7.78 2.81-2.81c.8-.78.8-2.07 0-2.86zM5.41 20L4 18.59l7.72-7.72 1.47 1.35L5.41 20z\"/>\n",
       "  </svg>\n",
       "      </button>\n",
       "      \n",
       "  <style>\n",
       "    .colab-df-container {\n",
       "      display:flex;\n",
       "      flex-wrap:wrap;\n",
       "      gap: 12px;\n",
       "    }\n",
       "\n",
       "    .colab-df-convert {\n",
       "      background-color: #E8F0FE;\n",
       "      border: none;\n",
       "      border-radius: 50%;\n",
       "      cursor: pointer;\n",
       "      display: none;\n",
       "      fill: #1967D2;\n",
       "      height: 32px;\n",
       "      padding: 0 0 0 0;\n",
       "      width: 32px;\n",
       "    }\n",
       "\n",
       "    .colab-df-convert:hover {\n",
       "      background-color: #E2EBFA;\n",
       "      box-shadow: 0px 1px 2px rgba(60, 64, 67, 0.3), 0px 1px 3px 1px rgba(60, 64, 67, 0.15);\n",
       "      fill: #174EA6;\n",
       "    }\n",
       "\n",
       "    [theme=dark] .colab-df-convert {\n",
       "      background-color: #3B4455;\n",
       "      fill: #D2E3FC;\n",
       "    }\n",
       "\n",
       "    [theme=dark] .colab-df-convert:hover {\n",
       "      background-color: #434B5C;\n",
       "      box-shadow: 0px 1px 3px 1px rgba(0, 0, 0, 0.15);\n",
       "      filter: drop-shadow(0px 1px 2px rgba(0, 0, 0, 0.3));\n",
       "      fill: #FFFFFF;\n",
       "    }\n",
       "  </style>\n",
       "\n",
       "      <script>\n",
       "        const buttonEl =\n",
       "          document.querySelector('#df-7c3aaa6f-9429-4c74-b4b4-f240bd9f0431 button.colab-df-convert');\n",
       "        buttonEl.style.display =\n",
       "          google.colab.kernel.accessAllowed ? 'block' : 'none';\n",
       "\n",
       "        async function convertToInteractive(key) {\n",
       "          const element = document.querySelector('#df-7c3aaa6f-9429-4c74-b4b4-f240bd9f0431');\n",
       "          const dataTable =\n",
       "            await google.colab.kernel.invokeFunction('convertToInteractive',\n",
       "                                                     [key], {});\n",
       "          if (!dataTable) return;\n",
       "\n",
       "          const docLinkHtml = 'Like what you see? Visit the ' +\n",
       "            '<a target=\"_blank\" href=https://colab.research.google.com/notebooks/data_table.ipynb>data table notebook</a>'\n",
       "            + ' to learn more about interactive tables.';\n",
       "          element.innerHTML = '';\n",
       "          dataTable['output_type'] = 'display_data';\n",
       "          await google.colab.output.renderOutput(dataTable, element);\n",
       "          const docLink = document.createElement('div');\n",
       "          docLink.innerHTML = docLinkHtml;\n",
       "          element.appendChild(docLink);\n",
       "        }\n",
       "      </script>\n",
       "    </div>\n",
       "  </div>\n",
       "  "
      ],
      "text/plain": [
       "  Employee Code Machine Production Order Operation No                 Date  \\\n",
       "1        382617  TWLD23  E15002965                240  2022-09-10 00:00:00   \n",
       "2        382617  TWLD23  E15002965                240  2022-09-10 00:00:00   \n",
       "3        382617  TWLD23  E15002965                240  2022-09-10 00:00:00   \n",
       "4        382617  TWLD23  E15002965                240  2022-09-10 00:00:00   \n",
       "5        382617  TWLD23  E15002965                240  2022-09-10 00:00:00   \n",
       "\n",
       "          Time           Current Humidity Temperature  Flow Job Temp Voltage  \\\n",
       "1  7:32:28:527              1.13       74          23  0.01     29.3    15.2   \n",
       "2   7:32:29:40  1.81999999999999       74          23     0     29.3       0   \n",
       "3  7:32:29:677              2.91       74          23     0     29.3       0   \n",
       "4  7:32:30:166              0.04       74          23     0     29.3       0   \n",
       "5  7:32:30:696              2.51       74          23     0     27.8       0   \n",
       "\n",
       "               Defect    Defects  \n",
       "1           No Defect  No Defect  \n",
       "2  Tungsten Inclusion     Defect  \n",
       "3           No Defect  No Defect  \n",
       "4           No Defect  No Defect  \n",
       "5           No Defect  No Defect  "
      ]
     },
     "execution_count": 29,
     "metadata": {},
     "output_type": "execute_result"
    }
   ],
   "source": [
    "data.head()"
   ]
  },
  {
   "cell_type": "markdown",
   "id": "a91b115e",
   "metadata": {
    "id": "a91b115e"
   },
   "source": [
    "### *Converting Relevant Data Types to float*"
   ]
  },
  {
   "cell_type": "code",
   "execution_count": null,
   "id": "9f0027ca",
   "metadata": {
    "colab": {
     "base_uri": "https://localhost:8080/"
    },
    "executionInfo": {
     "elapsed": 397,
     "status": "ok",
     "timestamp": 1670001033672,
     "user": {
      "displayName": "KUMAR AMAN",
      "userId": "15083373476895626314"
     },
     "user_tz": -330
    },
    "id": "9f0027ca",
    "outputId": "20ed35ae-d94b-4ed5-da6e-cd3f8a3d32f8"
   },
   "outputs": [
    {
     "data": {
      "text/plain": [
       "Employee Code         object\n",
       "Machine               object\n",
       "Production            object\n",
       "Order Operation No    object\n",
       "Date                  object\n",
       "Time                  object\n",
       "Current               object\n",
       "Humidity              object\n",
       "Temperature           object\n",
       "Flow                  object\n",
       "Job Temp              object\n",
       "Voltage               object\n",
       "Defect                object\n",
       "Defects               object\n",
       "dtype: object"
      ]
     },
     "execution_count": 30,
     "metadata": {},
     "output_type": "execute_result"
    }
   ],
   "source": [
    "data.dtypes"
   ]
  },
  {
   "cell_type": "code",
   "execution_count": null,
   "id": "effe5ade",
   "metadata": {
    "id": "effe5ade"
   },
   "outputs": [],
   "source": [
    "data['Temperature'] = data['Temperature'].astype('float')\n",
    "data['Current'] = data['Current'].astype('float')\n",
    "data['Humidity'] = data['Humidity'].astype('float')\n",
    "data['Flow'] = data['Flow'].astype('float')\n",
    "data['Job Temp'] = data['Job Temp'].astype('float')\n",
    "data['Voltage'] = data['Voltage'].astype('float')"
   ]
  },
  {
   "cell_type": "code",
   "execution_count": null,
   "id": "d56b3e26",
   "metadata": {
    "colab": {
     "base_uri": "https://localhost:8080/"
    },
    "executionInfo": {
     "elapsed": 5,
     "status": "ok",
     "timestamp": 1670001059583,
     "user": {
      "displayName": "KUMAR AMAN",
      "userId": "15083373476895626314"
     },
     "user_tz": -330
    },
    "id": "d56b3e26",
    "outputId": "036610c0-d728-4a7b-ebbc-ed6dd956cb9d"
   },
   "outputs": [
    {
     "data": {
      "text/plain": [
       "Employee Code          object\n",
       "Machine                object\n",
       "Production             object\n",
       "Order Operation No     object\n",
       "Date                   object\n",
       "Time                   object\n",
       "Current               float64\n",
       "Humidity              float64\n",
       "Temperature           float64\n",
       "Flow                  float64\n",
       "Job Temp              float64\n",
       "Voltage               float64\n",
       "Defect                 object\n",
       "Defects                object\n",
       "dtype: object"
      ]
     },
     "execution_count": 32,
     "metadata": {},
     "output_type": "execute_result"
    }
   ],
   "source": [
    "data.dtypes"
   ]
  },
  {
   "cell_type": "markdown",
   "id": "f605ece2",
   "metadata": {
    "id": "f605ece2"
   },
   "source": [
    "### *Getting insight From Data and Manipulating it*"
   ]
  },
  {
   "cell_type": "code",
   "execution_count": null,
   "id": "abaeee58",
   "metadata": {
    "colab": {
     "base_uri": "https://localhost:8080/",
     "height": 354
    },
    "executionInfo": {
     "elapsed": 3,
     "status": "ok",
     "timestamp": 1670001062934,
     "user": {
      "displayName": "KUMAR AMAN",
      "userId": "15083373476895626314"
     },
     "user_tz": -330
    },
    "id": "abaeee58",
    "outputId": "efef7e5e-ee69-4f38-e0fc-63905e307529"
   },
   "outputs": [
    {
     "data": {
      "text/html": [
       "\n",
       "  <div id=\"df-d088dd49-ef1d-4daf-823d-e7b93eb71b83\">\n",
       "    <div class=\"colab-df-container\">\n",
       "      <div>\n",
       "<style scoped>\n",
       "    .dataframe tbody tr th:only-of-type {\n",
       "        vertical-align: middle;\n",
       "    }\n",
       "\n",
       "    .dataframe tbody tr th {\n",
       "        vertical-align: top;\n",
       "    }\n",
       "\n",
       "    .dataframe thead th {\n",
       "        text-align: right;\n",
       "    }\n",
       "</style>\n",
       "<table border=\"1\" class=\"dataframe\">\n",
       "  <thead>\n",
       "    <tr style=\"text-align: right;\">\n",
       "      <th></th>\n",
       "      <th>Employee Code</th>\n",
       "      <th>Machine</th>\n",
       "      <th>Production</th>\n",
       "      <th>Order Operation No</th>\n",
       "      <th>Date</th>\n",
       "      <th>Time</th>\n",
       "      <th>Current</th>\n",
       "      <th>Humidity</th>\n",
       "      <th>Temperature</th>\n",
       "      <th>Flow</th>\n",
       "      <th>Job Temp</th>\n",
       "      <th>Voltage</th>\n",
       "      <th>Defect</th>\n",
       "      <th>Defects</th>\n",
       "    </tr>\n",
       "  </thead>\n",
       "  <tbody>\n",
       "    <tr>\n",
       "      <th>1</th>\n",
       "      <td>382617</td>\n",
       "      <td>TWLD23</td>\n",
       "      <td>E15002965</td>\n",
       "      <td>240</td>\n",
       "      <td>2022-09-10 00:00:00</td>\n",
       "      <td>7:32:28:527</td>\n",
       "      <td>1.13</td>\n",
       "      <td>74.0</td>\n",
       "      <td>23.0</td>\n",
       "      <td>0.01</td>\n",
       "      <td>29.3</td>\n",
       "      <td>15.2</td>\n",
       "      <td>No Defect</td>\n",
       "      <td>No Defect</td>\n",
       "    </tr>\n",
       "    <tr>\n",
       "      <th>2</th>\n",
       "      <td>382617</td>\n",
       "      <td>TWLD23</td>\n",
       "      <td>E15002965</td>\n",
       "      <td>240</td>\n",
       "      <td>2022-09-10 00:00:00</td>\n",
       "      <td>7:32:29:40</td>\n",
       "      <td>1.82</td>\n",
       "      <td>74.0</td>\n",
       "      <td>23.0</td>\n",
       "      <td>0.00</td>\n",
       "      <td>29.3</td>\n",
       "      <td>0.0</td>\n",
       "      <td>Tungsten Inclusion</td>\n",
       "      <td>Defect</td>\n",
       "    </tr>\n",
       "    <tr>\n",
       "      <th>3</th>\n",
       "      <td>382617</td>\n",
       "      <td>TWLD23</td>\n",
       "      <td>E15002965</td>\n",
       "      <td>240</td>\n",
       "      <td>2022-09-10 00:00:00</td>\n",
       "      <td>7:32:29:677</td>\n",
       "      <td>2.91</td>\n",
       "      <td>74.0</td>\n",
       "      <td>23.0</td>\n",
       "      <td>0.00</td>\n",
       "      <td>29.3</td>\n",
       "      <td>0.0</td>\n",
       "      <td>No Defect</td>\n",
       "      <td>No Defect</td>\n",
       "    </tr>\n",
       "    <tr>\n",
       "      <th>4</th>\n",
       "      <td>382617</td>\n",
       "      <td>TWLD23</td>\n",
       "      <td>E15002965</td>\n",
       "      <td>240</td>\n",
       "      <td>2022-09-10 00:00:00</td>\n",
       "      <td>7:32:30:166</td>\n",
       "      <td>0.04</td>\n",
       "      <td>74.0</td>\n",
       "      <td>23.0</td>\n",
       "      <td>0.00</td>\n",
       "      <td>29.3</td>\n",
       "      <td>0.0</td>\n",
       "      <td>No Defect</td>\n",
       "      <td>No Defect</td>\n",
       "    </tr>\n",
       "    <tr>\n",
       "      <th>5</th>\n",
       "      <td>382617</td>\n",
       "      <td>TWLD23</td>\n",
       "      <td>E15002965</td>\n",
       "      <td>240</td>\n",
       "      <td>2022-09-10 00:00:00</td>\n",
       "      <td>7:32:30:696</td>\n",
       "      <td>2.51</td>\n",
       "      <td>74.0</td>\n",
       "      <td>23.0</td>\n",
       "      <td>0.00</td>\n",
       "      <td>27.8</td>\n",
       "      <td>0.0</td>\n",
       "      <td>No Defect</td>\n",
       "      <td>No Defect</td>\n",
       "    </tr>\n",
       "  </tbody>\n",
       "</table>\n",
       "</div>\n",
       "      <button class=\"colab-df-convert\" onclick=\"convertToInteractive('df-d088dd49-ef1d-4daf-823d-e7b93eb71b83')\"\n",
       "              title=\"Convert this dataframe to an interactive table.\"\n",
       "              style=\"display:none;\">\n",
       "        \n",
       "  <svg xmlns=\"http://www.w3.org/2000/svg\" height=\"24px\"viewBox=\"0 0 24 24\"\n",
       "       width=\"24px\">\n",
       "    <path d=\"M0 0h24v24H0V0z\" fill=\"none\"/>\n",
       "    <path d=\"M18.56 5.44l.94 2.06.94-2.06 2.06-.94-2.06-.94-.94-2.06-.94 2.06-2.06.94zm-11 1L8.5 8.5l.94-2.06 2.06-.94-2.06-.94L8.5 2.5l-.94 2.06-2.06.94zm10 10l.94 2.06.94-2.06 2.06-.94-2.06-.94-.94-2.06-.94 2.06-2.06.94z\"/><path d=\"M17.41 7.96l-1.37-1.37c-.4-.4-.92-.59-1.43-.59-.52 0-1.04.2-1.43.59L10.3 9.45l-7.72 7.72c-.78.78-.78 2.05 0 2.83L4 21.41c.39.39.9.59 1.41.59.51 0 1.02-.2 1.41-.59l7.78-7.78 2.81-2.81c.8-.78.8-2.07 0-2.86zM5.41 20L4 18.59l7.72-7.72 1.47 1.35L5.41 20z\"/>\n",
       "  </svg>\n",
       "      </button>\n",
       "      \n",
       "  <style>\n",
       "    .colab-df-container {\n",
       "      display:flex;\n",
       "      flex-wrap:wrap;\n",
       "      gap: 12px;\n",
       "    }\n",
       "\n",
       "    .colab-df-convert {\n",
       "      background-color: #E8F0FE;\n",
       "      border: none;\n",
       "      border-radius: 50%;\n",
       "      cursor: pointer;\n",
       "      display: none;\n",
       "      fill: #1967D2;\n",
       "      height: 32px;\n",
       "      padding: 0 0 0 0;\n",
       "      width: 32px;\n",
       "    }\n",
       "\n",
       "    .colab-df-convert:hover {\n",
       "      background-color: #E2EBFA;\n",
       "      box-shadow: 0px 1px 2px rgba(60, 64, 67, 0.3), 0px 1px 3px 1px rgba(60, 64, 67, 0.15);\n",
       "      fill: #174EA6;\n",
       "    }\n",
       "\n",
       "    [theme=dark] .colab-df-convert {\n",
       "      background-color: #3B4455;\n",
       "      fill: #D2E3FC;\n",
       "    }\n",
       "\n",
       "    [theme=dark] .colab-df-convert:hover {\n",
       "      background-color: #434B5C;\n",
       "      box-shadow: 0px 1px 3px 1px rgba(0, 0, 0, 0.15);\n",
       "      filter: drop-shadow(0px 1px 2px rgba(0, 0, 0, 0.3));\n",
       "      fill: #FFFFFF;\n",
       "    }\n",
       "  </style>\n",
       "\n",
       "      <script>\n",
       "        const buttonEl =\n",
       "          document.querySelector('#df-d088dd49-ef1d-4daf-823d-e7b93eb71b83 button.colab-df-convert');\n",
       "        buttonEl.style.display =\n",
       "          google.colab.kernel.accessAllowed ? 'block' : 'none';\n",
       "\n",
       "        async function convertToInteractive(key) {\n",
       "          const element = document.querySelector('#df-d088dd49-ef1d-4daf-823d-e7b93eb71b83');\n",
       "          const dataTable =\n",
       "            await google.colab.kernel.invokeFunction('convertToInteractive',\n",
       "                                                     [key], {});\n",
       "          if (!dataTable) return;\n",
       "\n",
       "          const docLinkHtml = 'Like what you see? Visit the ' +\n",
       "            '<a target=\"_blank\" href=https://colab.research.google.com/notebooks/data_table.ipynb>data table notebook</a>'\n",
       "            + ' to learn more about interactive tables.';\n",
       "          element.innerHTML = '';\n",
       "          dataTable['output_type'] = 'display_data';\n",
       "          await google.colab.output.renderOutput(dataTable, element);\n",
       "          const docLink = document.createElement('div');\n",
       "          docLink.innerHTML = docLinkHtml;\n",
       "          element.appendChild(docLink);\n",
       "        }\n",
       "      </script>\n",
       "    </div>\n",
       "  </div>\n",
       "  "
      ],
      "text/plain": [
       "  Employee Code Machine Production Order Operation No                 Date  \\\n",
       "1        382617  TWLD23  E15002965                240  2022-09-10 00:00:00   \n",
       "2        382617  TWLD23  E15002965                240  2022-09-10 00:00:00   \n",
       "3        382617  TWLD23  E15002965                240  2022-09-10 00:00:00   \n",
       "4        382617  TWLD23  E15002965                240  2022-09-10 00:00:00   \n",
       "5        382617  TWLD23  E15002965                240  2022-09-10 00:00:00   \n",
       "\n",
       "          Time  Current  Humidity  Temperature  Flow  Job Temp  Voltage  \\\n",
       "1  7:32:28:527     1.13      74.0         23.0  0.01      29.3     15.2   \n",
       "2   7:32:29:40     1.82      74.0         23.0  0.00      29.3      0.0   \n",
       "3  7:32:29:677     2.91      74.0         23.0  0.00      29.3      0.0   \n",
       "4  7:32:30:166     0.04      74.0         23.0  0.00      29.3      0.0   \n",
       "5  7:32:30:696     2.51      74.0         23.0  0.00      27.8      0.0   \n",
       "\n",
       "               Defect    Defects  \n",
       "1           No Defect  No Defect  \n",
       "2  Tungsten Inclusion     Defect  \n",
       "3           No Defect  No Defect  \n",
       "4           No Defect  No Defect  \n",
       "5           No Defect  No Defect  "
      ]
     },
     "execution_count": 33,
     "metadata": {},
     "output_type": "execute_result"
    }
   ],
   "source": [
    "data.head()"
   ]
  },
  {
   "cell_type": "code",
   "execution_count": null,
   "id": "44d71690",
   "metadata": {
    "colab": {
     "base_uri": "https://localhost:8080/"
    },
    "executionInfo": {
     "elapsed": 3,
     "status": "ok",
     "timestamp": 1670001067739,
     "user": {
      "displayName": "KUMAR AMAN",
      "userId": "15083373476895626314"
     },
     "user_tz": -330
    },
    "id": "44d71690",
    "outputId": "614580bf-a07e-46d8-ce3c-966955410769"
   },
   "outputs": [
    {
     "name": "stdout",
     "output_type": "stream",
     "text": [
      "['TWLD23']\n"
     ]
    }
   ],
   "source": [
    "print(data['Machine'].unique())"
   ]
  },
  {
   "cell_type": "code",
   "execution_count": null,
   "id": "59a80a47",
   "metadata": {
    "id": "59a80a47"
   },
   "outputs": [],
   "source": [
    "# Here ,it is seen that same type of machine has been used so , no relevance of 'Machine' coloumn here\n",
    "# Hence we are dropping this particular coloumn\n",
    "data.drop(['Machine'] ,axis = 1 ,inplace = True)"
   ]
  },
  {
   "cell_type": "code",
   "execution_count": null,
   "id": "0434714c",
   "metadata": {
    "id": "0434714c"
   },
   "outputs": [],
   "source": [
    "# Production is also project under order \n",
    "# Hence this coloumn is also not required\n",
    "data.drop(['Production'] ,axis = 1 ,inplace = True)\n"
   ]
  },
  {
   "cell_type": "code",
   "execution_count": null,
   "id": "600aeb12",
   "metadata": {
    "id": "600aeb12"
   },
   "outputs": [],
   "source": [
    "#\n",
    "data.drop(['Order Operation No'] ,axis = 1 ,inplace = True)\n"
   ]
  },
  {
   "cell_type": "code",
   "execution_count": null,
   "id": "6a97b5b9",
   "metadata": {
    "id": "6a97b5b9"
   },
   "outputs": [],
   "source": [
    "data.drop(['Defect'] ,axis = 1 ,inplace = True)"
   ]
  },
  {
   "cell_type": "code",
   "execution_count": null,
   "id": "3c40436d",
   "metadata": {
    "id": "3c40436d"
   },
   "outputs": [],
   "source": [
    "#\n",
    "data.drop(['Date','Time'] ,axis = 1 ,inplace = True)"
   ]
  },
  {
   "cell_type": "code",
   "execution_count": null,
   "id": "953e470d",
   "metadata": {
    "colab": {
     "base_uri": "https://localhost:8080/",
     "height": 206
    },
    "executionInfo": {
     "elapsed": 4,
     "status": "ok",
     "timestamp": 1670001082304,
     "user": {
      "displayName": "KUMAR AMAN",
      "userId": "15083373476895626314"
     },
     "user_tz": -330
    },
    "id": "953e470d",
    "outputId": "404d9265-89b9-498b-e71c-58848c4bd7ec"
   },
   "outputs": [
    {
     "data": {
      "text/html": [
       "\n",
       "  <div id=\"df-4d0cd5bb-55c9-4dd4-9979-db7910242e22\">\n",
       "    <div class=\"colab-df-container\">\n",
       "      <div>\n",
       "<style scoped>\n",
       "    .dataframe tbody tr th:only-of-type {\n",
       "        vertical-align: middle;\n",
       "    }\n",
       "\n",
       "    .dataframe tbody tr th {\n",
       "        vertical-align: top;\n",
       "    }\n",
       "\n",
       "    .dataframe thead th {\n",
       "        text-align: right;\n",
       "    }\n",
       "</style>\n",
       "<table border=\"1\" class=\"dataframe\">\n",
       "  <thead>\n",
       "    <tr style=\"text-align: right;\">\n",
       "      <th></th>\n",
       "      <th>Employee Code</th>\n",
       "      <th>Current</th>\n",
       "      <th>Humidity</th>\n",
       "      <th>Temperature</th>\n",
       "      <th>Flow</th>\n",
       "      <th>Job Temp</th>\n",
       "      <th>Voltage</th>\n",
       "      <th>Defects</th>\n",
       "    </tr>\n",
       "  </thead>\n",
       "  <tbody>\n",
       "    <tr>\n",
       "      <th>1</th>\n",
       "      <td>382617</td>\n",
       "      <td>1.13</td>\n",
       "      <td>74.0</td>\n",
       "      <td>23.0</td>\n",
       "      <td>0.01</td>\n",
       "      <td>29.3</td>\n",
       "      <td>15.2</td>\n",
       "      <td>No Defect</td>\n",
       "    </tr>\n",
       "    <tr>\n",
       "      <th>2</th>\n",
       "      <td>382617</td>\n",
       "      <td>1.82</td>\n",
       "      <td>74.0</td>\n",
       "      <td>23.0</td>\n",
       "      <td>0.00</td>\n",
       "      <td>29.3</td>\n",
       "      <td>0.0</td>\n",
       "      <td>Defect</td>\n",
       "    </tr>\n",
       "    <tr>\n",
       "      <th>3</th>\n",
       "      <td>382617</td>\n",
       "      <td>2.91</td>\n",
       "      <td>74.0</td>\n",
       "      <td>23.0</td>\n",
       "      <td>0.00</td>\n",
       "      <td>29.3</td>\n",
       "      <td>0.0</td>\n",
       "      <td>No Defect</td>\n",
       "    </tr>\n",
       "    <tr>\n",
       "      <th>4</th>\n",
       "      <td>382617</td>\n",
       "      <td>0.04</td>\n",
       "      <td>74.0</td>\n",
       "      <td>23.0</td>\n",
       "      <td>0.00</td>\n",
       "      <td>29.3</td>\n",
       "      <td>0.0</td>\n",
       "      <td>No Defect</td>\n",
       "    </tr>\n",
       "    <tr>\n",
       "      <th>5</th>\n",
       "      <td>382617</td>\n",
       "      <td>2.51</td>\n",
       "      <td>74.0</td>\n",
       "      <td>23.0</td>\n",
       "      <td>0.00</td>\n",
       "      <td>27.8</td>\n",
       "      <td>0.0</td>\n",
       "      <td>No Defect</td>\n",
       "    </tr>\n",
       "  </tbody>\n",
       "</table>\n",
       "</div>\n",
       "      <button class=\"colab-df-convert\" onclick=\"convertToInteractive('df-4d0cd5bb-55c9-4dd4-9979-db7910242e22')\"\n",
       "              title=\"Convert this dataframe to an interactive table.\"\n",
       "              style=\"display:none;\">\n",
       "        \n",
       "  <svg xmlns=\"http://www.w3.org/2000/svg\" height=\"24px\"viewBox=\"0 0 24 24\"\n",
       "       width=\"24px\">\n",
       "    <path d=\"M0 0h24v24H0V0z\" fill=\"none\"/>\n",
       "    <path d=\"M18.56 5.44l.94 2.06.94-2.06 2.06-.94-2.06-.94-.94-2.06-.94 2.06-2.06.94zm-11 1L8.5 8.5l.94-2.06 2.06-.94-2.06-.94L8.5 2.5l-.94 2.06-2.06.94zm10 10l.94 2.06.94-2.06 2.06-.94-2.06-.94-.94-2.06-.94 2.06-2.06.94z\"/><path d=\"M17.41 7.96l-1.37-1.37c-.4-.4-.92-.59-1.43-.59-.52 0-1.04.2-1.43.59L10.3 9.45l-7.72 7.72c-.78.78-.78 2.05 0 2.83L4 21.41c.39.39.9.59 1.41.59.51 0 1.02-.2 1.41-.59l7.78-7.78 2.81-2.81c.8-.78.8-2.07 0-2.86zM5.41 20L4 18.59l7.72-7.72 1.47 1.35L5.41 20z\"/>\n",
       "  </svg>\n",
       "      </button>\n",
       "      \n",
       "  <style>\n",
       "    .colab-df-container {\n",
       "      display:flex;\n",
       "      flex-wrap:wrap;\n",
       "      gap: 12px;\n",
       "    }\n",
       "\n",
       "    .colab-df-convert {\n",
       "      background-color: #E8F0FE;\n",
       "      border: none;\n",
       "      border-radius: 50%;\n",
       "      cursor: pointer;\n",
       "      display: none;\n",
       "      fill: #1967D2;\n",
       "      height: 32px;\n",
       "      padding: 0 0 0 0;\n",
       "      width: 32px;\n",
       "    }\n",
       "\n",
       "    .colab-df-convert:hover {\n",
       "      background-color: #E2EBFA;\n",
       "      box-shadow: 0px 1px 2px rgba(60, 64, 67, 0.3), 0px 1px 3px 1px rgba(60, 64, 67, 0.15);\n",
       "      fill: #174EA6;\n",
       "    }\n",
       "\n",
       "    [theme=dark] .colab-df-convert {\n",
       "      background-color: #3B4455;\n",
       "      fill: #D2E3FC;\n",
       "    }\n",
       "\n",
       "    [theme=dark] .colab-df-convert:hover {\n",
       "      background-color: #434B5C;\n",
       "      box-shadow: 0px 1px 3px 1px rgba(0, 0, 0, 0.15);\n",
       "      filter: drop-shadow(0px 1px 2px rgba(0, 0, 0, 0.3));\n",
       "      fill: #FFFFFF;\n",
       "    }\n",
       "  </style>\n",
       "\n",
       "      <script>\n",
       "        const buttonEl =\n",
       "          document.querySelector('#df-4d0cd5bb-55c9-4dd4-9979-db7910242e22 button.colab-df-convert');\n",
       "        buttonEl.style.display =\n",
       "          google.colab.kernel.accessAllowed ? 'block' : 'none';\n",
       "\n",
       "        async function convertToInteractive(key) {\n",
       "          const element = document.querySelector('#df-4d0cd5bb-55c9-4dd4-9979-db7910242e22');\n",
       "          const dataTable =\n",
       "            await google.colab.kernel.invokeFunction('convertToInteractive',\n",
       "                                                     [key], {});\n",
       "          if (!dataTable) return;\n",
       "\n",
       "          const docLinkHtml = 'Like what you see? Visit the ' +\n",
       "            '<a target=\"_blank\" href=https://colab.research.google.com/notebooks/data_table.ipynb>data table notebook</a>'\n",
       "            + ' to learn more about interactive tables.';\n",
       "          element.innerHTML = '';\n",
       "          dataTable['output_type'] = 'display_data';\n",
       "          await google.colab.output.renderOutput(dataTable, element);\n",
       "          const docLink = document.createElement('div');\n",
       "          docLink.innerHTML = docLinkHtml;\n",
       "          element.appendChild(docLink);\n",
       "        }\n",
       "      </script>\n",
       "    </div>\n",
       "  </div>\n",
       "  "
      ],
      "text/plain": [
       "  Employee Code  Current  Humidity  Temperature  Flow  Job Temp  Voltage  \\\n",
       "1        382617     1.13      74.0         23.0  0.01      29.3     15.2   \n",
       "2        382617     1.82      74.0         23.0  0.00      29.3      0.0   \n",
       "3        382617     2.91      74.0         23.0  0.00      29.3      0.0   \n",
       "4        382617     0.04      74.0         23.0  0.00      29.3      0.0   \n",
       "5        382617     2.51      74.0         23.0  0.00      27.8      0.0   \n",
       "\n",
       "     Defects  \n",
       "1  No Defect  \n",
       "2     Defect  \n",
       "3  No Defect  \n",
       "4  No Defect  \n",
       "5  No Defect  "
      ]
     },
     "execution_count": 40,
     "metadata": {},
     "output_type": "execute_result"
    }
   ],
   "source": [
    "data.head()"
   ]
  },
  {
   "cell_type": "code",
   "execution_count": null,
   "id": "fd7255d3",
   "metadata": {
    "colab": {
     "base_uri": "https://localhost:8080/"
    },
    "executionInfo": {
     "elapsed": 3,
     "status": "ok",
     "timestamp": 1670001084592,
     "user": {
      "displayName": "KUMAR AMAN",
      "userId": "15083373476895626314"
     },
     "user_tz": -330
    },
    "id": "fd7255d3",
    "outputId": "fbb84873-ea35-4095-abba-a59a4148c8c1"
   },
   "outputs": [
    {
     "data": {
      "text/plain": [
       "No Defect    819552\n",
       "Defect         7982\n",
       "Name: Defects, dtype: int64"
      ]
     },
     "execution_count": 41,
     "metadata": {},
     "output_type": "execute_result"
    }
   ],
   "source": [
    "data['Defects'].value_counts()"
   ]
  },
  {
   "cell_type": "markdown",
   "id": "8fa66a48",
   "metadata": {
    "id": "8fa66a48"
   },
   "source": [
    "# *LABEL ENCODING (Defects Coloumn)*"
   ]
  },
  {
   "cell_type": "code",
   "execution_count": null,
   "id": "0891a69d",
   "metadata": {
    "colab": {
     "base_uri": "https://localhost:8080/"
    },
    "executionInfo": {
     "elapsed": 666,
     "status": "ok",
     "timestamp": 1670001089696,
     "user": {
      "displayName": "KUMAR AMAN",
      "userId": "15083373476895626314"
     },
     "user_tz": -330
    },
    "id": "0891a69d",
    "outputId": "380fbf91-08a7-4a41-bd34-1cda6fa38172"
   },
   "outputs": [
    {
     "data": {
      "text/plain": [
       "1    819552\n",
       "0      7982\n",
       "Name: Defects, dtype: int64"
      ]
     },
     "execution_count": 42,
     "metadata": {},
     "output_type": "execute_result"
    }
   ],
   "source": [
    "# Import label encoder\n",
    "from sklearn import preprocessing\n",
    "\n",
    "# label_encoder object knows how to understand word labels.\n",
    "label_encoder = preprocessing.LabelEncoder()\n",
    "\n",
    "# Encode labels in column 'species'.\n",
    "data['Defects']= label_encoder.fit_transform(data['Defects'])\n",
    "\n",
    "data['Defects'].value_counts()\n",
    "\n",
    "## No Defect == \"1\" && Defect == \"0\""
   ]
  },
  {
   "cell_type": "markdown",
   "id": "931b438a",
   "metadata": {
    "id": "931b438a"
   },
   "source": [
    "\n",
    "\n",
    "\n",
    "\n",
    "\n",
    "\n",
    "\n",
    "\n",
    "\n",
    "\n",
    "\n",
    "\n",
    "\n",
    "\n",
    "\n",
    "\n",
    "\n",
    "\n",
    "\n",
    "\n",
    "\n",
    "\n",
    "\n",
    "\n",
    "\n",
    "### *EMPLOYEE ANALYSIS*"
   ]
  },
  {
   "cell_type": "code",
   "execution_count": null,
   "id": "282e1f45",
   "metadata": {
    "id": "282e1f45"
   },
   "outputs": [],
   "source": [
    "data['Employee Code'] = data['Employee Code'].astype('str')"
   ]
  },
  {
   "cell_type": "code",
   "execution_count": null,
   "id": "c0086314",
   "metadata": {
    "colab": {
     "base_uri": "https://localhost:8080/",
     "height": 768
    },
    "executionInfo": {
     "elapsed": 1983,
     "status": "ok",
     "timestamp": 1670001098864,
     "user": {
      "displayName": "KUMAR AMAN",
      "userId": "15083373476895626314"
     },
     "user_tz": -330
    },
    "id": "c0086314",
    "outputId": "47c066e2-d9d1-4ff1-f61b-a3a5f65cbb3a",
    "scrolled": true
   },
   "outputs": [
    {
     "data": {
      "image/png": "[encoded data removed]",
      "text/plain": [
       "<Figure size 2160x1440 with 1 Axes>"
      ]
     },
     "metadata": {},
     "output_type": "display_data"
    }
   ],
   "source": [
    "sns.set(rc = {'figure.figsize' : (30,20)})\n",
    "ax = sns.countplot(data=data, x=\"Employee Code\", hue=\"Defects\")\n",
    "for p in ax.patches:\n",
    "        ax.annotate('%{:.1f}'.format(p.get_height()), (p.get_x()+0.1, p.get_height()+50))"
   ]
  },
  {
   "cell_type": "markdown",
   "id": "b1145a24",
   "metadata": {
    "id": "b1145a24"
   },
   "source": [
    "Employee ID \t      Non Defect\tDefect\t  %Defects\n",
    "382617\t                36400\t    365\t       0.992792058\n",
    "391342\t                255031\t    1853\t   0.721337257\n",
    "97346\t                116565\t     861       0.733227735\n",
    "0\t                     66740\t      80\t   0.119724633\n",
    "394965\t                 173466\t    1519\t   0.868074406\n",
    "394365\t                 23740\t     182\t   0.760805953\n",
    "383138\t                 27239\t      56\t   0.205165781\n",
    "394269\t                 114008\t     813\t   0.70805863\n",
    "\n",
    "The performance of employee having employee ID:0 is best among all 9 employee.\n",
    "Employee ID: 383138 comes at 2nd position.\n",
    "Employee ID: 382617 is has produced the highest percentage of defected products."
   ]
  },
  {
   "cell_type": "code",
   "execution_count": null,
   "id": "3ce1e993",
   "metadata": {
    "id": "3ce1e993",
    "scrolled": false
   },
   "outputs": [],
   "source": [
    "data.drop(['Employee Code'] ,axis = 1 ,inplace = True)"
   ]
  },
  {
   "cell_type": "markdown",
   "id": "669f018b",
   "metadata": {
    "id": "669f018b"
   },
   "source": [
    "# *HANDLING MISSING VALUES*"
   ]
  },
  {
   "cell_type": "code",
   "execution_count": null,
   "id": "c8cfd2fe",
   "metadata": {
    "colab": {
     "base_uri": "https://localhost:8080/"
    },
    "executionInfo": {
     "elapsed": 3,
     "status": "ok",
     "timestamp": 1670001111710,
     "user": {
      "displayName": "KUMAR AMAN",
      "userId": "15083373476895626314"
     },
     "user_tz": -330
    },
    "id": "c8cfd2fe",
    "outputId": "125a6345-59d9-4634-88e5-31ba8008fd26"
   },
   "outputs": [
    {
     "data": {
      "text/plain": [
       "Current        3\n",
       "Humidity       0\n",
       "Temperature    0\n",
       "Flow           0\n",
       "Job Temp       0\n",
       "Voltage        0\n",
       "Defects        0\n",
       "dtype: int64"
      ]
     },
     "execution_count": 46,
     "metadata": {},
     "output_type": "execute_result"
    }
   ],
   "source": [
    "data.isnull().sum()"
   ]
  },
  {
   "cell_type": "code",
   "execution_count": null,
   "id": "b8bdcc42",
   "metadata": {
    "id": "b8bdcc42"
   },
   "outputs": [],
   "source": [
    "# Replacing missing Current value with its mean\n",
    "data['Current'].fillna(int(data['Current'].mean()), inplace=True)"
   ]
  },
  {
   "cell_type": "code",
   "execution_count": null,
   "id": "f1b9280a",
   "metadata": {
    "colab": {
     "base_uri": "https://localhost:8080/"
    },
    "executionInfo": {
     "elapsed": 2,
     "status": "ok",
     "timestamp": 1670001118605,
     "user": {
      "displayName": "KUMAR AMAN",
      "userId": "15083373476895626314"
     },
     "user_tz": -330
    },
    "id": "f1b9280a",
    "outputId": "95a408f1-5ea8-43ee-8e10-31dec80c4c89",
    "scrolled": true
   },
   "outputs": [
    {
     "data": {
      "text/plain": [
       "Current        0\n",
       "Humidity       0\n",
       "Temperature    0\n",
       "Flow           0\n",
       "Job Temp       0\n",
       "Voltage        0\n",
       "Defects        0\n",
       "dtype: int64"
      ]
     },
     "execution_count": 48,
     "metadata": {},
     "output_type": "execute_result"
    }
   ],
   "source": [
    "data.isnull().sum()"
   ]
  },
  {
   "cell_type": "code",
   "execution_count": null,
   "id": "734cc966",
   "metadata": {
    "colab": {
     "base_uri": "https://localhost:8080/",
     "height": 300
    },
    "executionInfo": {
     "elapsed": 4,
     "status": "ok",
     "timestamp": 1670001122394,
     "user": {
      "displayName": "KUMAR AMAN",
      "userId": "15083373476895626314"
     },
     "user_tz": -330
    },
    "id": "734cc966",
    "outputId": "4c339dff-39f6-4895-9b35-3bae90d9bfc7"
   },
   "outputs": [
    {
     "data": {
      "text/html": [
       "\n",
       "  <div id=\"df-49725354-adfd-4462-bfcd-ba16d6151fa6\">\n",
       "    <div class=\"colab-df-container\">\n",
       "      <div>\n",
       "<style scoped>\n",
       "    .dataframe tbody tr th:only-of-type {\n",
       "        vertical-align: middle;\n",
       "    }\n",
       "\n",
       "    .dataframe tbody tr th {\n",
       "        vertical-align: top;\n",
       "    }\n",
       "\n",
       "    .dataframe thead th {\n",
       "        text-align: right;\n",
       "    }\n",
       "</style>\n",
       "<table border=\"1\" class=\"dataframe\">\n",
       "  <thead>\n",
       "    <tr style=\"text-align: right;\">\n",
       "      <th></th>\n",
       "      <th>Current</th>\n",
       "      <th>Humidity</th>\n",
       "      <th>Temperature</th>\n",
       "      <th>Flow</th>\n",
       "      <th>Job Temp</th>\n",
       "      <th>Voltage</th>\n",
       "      <th>Defects</th>\n",
       "    </tr>\n",
       "  </thead>\n",
       "  <tbody>\n",
       "    <tr>\n",
       "      <th>count</th>\n",
       "      <td>827534.000000</td>\n",
       "      <td>827534.000000</td>\n",
       "      <td>827534.000000</td>\n",
       "      <td>827534.000000</td>\n",
       "      <td>827534.000000</td>\n",
       "      <td>827534.000000</td>\n",
       "      <td>827534.000000</td>\n",
       "    </tr>\n",
       "    <tr>\n",
       "      <th>mean</th>\n",
       "      <td>8.673908</td>\n",
       "      <td>74.956373</td>\n",
       "      <td>23.884997</td>\n",
       "      <td>1.763230</td>\n",
       "      <td>136.406572</td>\n",
       "      <td>2.846528</td>\n",
       "      <td>0.990354</td>\n",
       "    </tr>\n",
       "    <tr>\n",
       "      <th>std</th>\n",
       "      <td>13.219328</td>\n",
       "      <td>10.374707</td>\n",
       "      <td>3.491204</td>\n",
       "      <td>1.741196</td>\n",
       "      <td>558.122529</td>\n",
       "      <td>4.616725</td>\n",
       "      <td>0.097737</td>\n",
       "    </tr>\n",
       "    <tr>\n",
       "      <th>min</th>\n",
       "      <td>-2.000000</td>\n",
       "      <td>0.000000</td>\n",
       "      <td>-13.000000</td>\n",
       "      <td>0.000000</td>\n",
       "      <td>0.000000</td>\n",
       "      <td>-2.578000</td>\n",
       "      <td>0.000000</td>\n",
       "    </tr>\n",
       "    <tr>\n",
       "      <th>25%</th>\n",
       "      <td>0.260000</td>\n",
       "      <td>72.000000</td>\n",
       "      <td>24.000000</td>\n",
       "      <td>0.000000</td>\n",
       "      <td>29.800000</td>\n",
       "      <td>0.000000</td>\n",
       "      <td>1.000000</td>\n",
       "    </tr>\n",
       "    <tr>\n",
       "      <th>50%</th>\n",
       "      <td>2.250000</td>\n",
       "      <td>76.000000</td>\n",
       "      <td>24.000000</td>\n",
       "      <td>1.600000</td>\n",
       "      <td>31.300000</td>\n",
       "      <td>0.000000</td>\n",
       "      <td>1.000000</td>\n",
       "    </tr>\n",
       "    <tr>\n",
       "      <th>75%</th>\n",
       "      <td>13.677500</td>\n",
       "      <td>79.000000</td>\n",
       "      <td>25.000000</td>\n",
       "      <td>3.140000</td>\n",
       "      <td>35.600000</td>\n",
       "      <td>8.660000</td>\n",
       "      <td>1.000000</td>\n",
       "    </tr>\n",
       "    <tr>\n",
       "      <th>max</th>\n",
       "      <td>163.000000</td>\n",
       "      <td>2444.000000</td>\n",
       "      <td>828.000000</td>\n",
       "      <td>14.470000</td>\n",
       "      <td>3276.700000</td>\n",
       "      <td>24.499000</td>\n",
       "      <td>1.000000</td>\n",
       "    </tr>\n",
       "  </tbody>\n",
       "</table>\n",
       "</div>\n",
       "      <button class=\"colab-df-convert\" onclick=\"convertToInteractive('df-49725354-adfd-4462-bfcd-ba16d6151fa6')\"\n",
       "              title=\"Convert this dataframe to an interactive table.\"\n",
       "              style=\"display:none;\">\n",
       "        \n",
       "  <svg xmlns=\"http://www.w3.org/2000/svg\" height=\"24px\"viewBox=\"0 0 24 24\"\n",
       "       width=\"24px\">\n",
       "    <path d=\"M0 0h24v24H0V0z\" fill=\"none\"/>\n",
       "    <path d=\"M18.56 5.44l.94 2.06.94-2.06 2.06-.94-2.06-.94-.94-2.06-.94 2.06-2.06.94zm-11 1L8.5 8.5l.94-2.06 2.06-.94-2.06-.94L8.5 2.5l-.94 2.06-2.06.94zm10 10l.94 2.06.94-2.06 2.06-.94-2.06-.94-.94-2.06-.94 2.06-2.06.94z\"/><path d=\"M17.41 7.96l-1.37-1.37c-.4-.4-.92-.59-1.43-.59-.52 0-1.04.2-1.43.59L10.3 9.45l-7.72 7.72c-.78.78-.78 2.05 0 2.83L4 21.41c.39.39.9.59 1.41.59.51 0 1.02-.2 1.41-.59l7.78-7.78 2.81-2.81c.8-.78.8-2.07 0-2.86zM5.41 20L4 18.59l7.72-7.72 1.47 1.35L5.41 20z\"/>\n",
       "  </svg>\n",
       "      </button>\n",
       "      \n",
       "  <style>\n",
       "    .colab-df-container {\n",
       "      display:flex;\n",
       "      flex-wrap:wrap;\n",
       "      gap: 12px;\n",
       "    }\n",
       "\n",
       "    .colab-df-convert {\n",
       "      background-color: #E8F0FE;\n",
       "      border: none;\n",
       "      border-radius: 50%;\n",
       "      cursor: pointer;\n",
       "      display: none;\n",
       "      fill: #1967D2;\n",
       "      height: 32px;\n",
       "      padding: 0 0 0 0;\n",
       "      width: 32px;\n",
       "    }\n",
       "\n",
       "    .colab-df-convert:hover {\n",
       "      background-color: #E2EBFA;\n",
       "      box-shadow: 0px 1px 2px rgba(60, 64, 67, 0.3), 0px 1px 3px 1px rgba(60, 64, 67, 0.15);\n",
       "      fill: #174EA6;\n",
       "    }\n",
       "\n",
       "    [theme=dark] .colab-df-convert {\n",
       "      background-color: #3B4455;\n",
       "      fill: #D2E3FC;\n",
       "    }\n",
       "\n",
       "    [theme=dark] .colab-df-convert:hover {\n",
       "      background-color: #434B5C;\n",
       "      box-shadow: 0px 1px 3px 1px rgba(0, 0, 0, 0.15);\n",
       "      filter: drop-shadow(0px 1px 2px rgba(0, 0, 0, 0.3));\n",
       "      fill: #FFFFFF;\n",
       "    }\n",
       "  </style>\n",
       "\n",
       "      <script>\n",
       "        const buttonEl =\n",
       "          document.querySelector('#df-49725354-adfd-4462-bfcd-ba16d6151fa6 button.colab-df-convert');\n",
       "        buttonEl.style.display =\n",
       "          google.colab.kernel.accessAllowed ? 'block' : 'none';\n",
       "\n",
       "        async function convertToInteractive(key) {\n",
       "          const element = document.querySelector('#df-49725354-adfd-4462-bfcd-ba16d6151fa6');\n",
       "          const dataTable =\n",
       "            await google.colab.kernel.invokeFunction('convertToInteractive',\n",
       "                                                     [key], {});\n",
       "          if (!dataTable) return;\n",
       "\n",
       "          const docLinkHtml = 'Like what you see? Visit the ' +\n",
       "            '<a target=\"_blank\" href=https://colab.research.google.com/notebooks/data_table.ipynb>data table notebook</a>'\n",
       "            + ' to learn more about interactive tables.';\n",
       "          element.innerHTML = '';\n",
       "          dataTable['output_type'] = 'display_data';\n",
       "          await google.colab.output.renderOutput(dataTable, element);\n",
       "          const docLink = document.createElement('div');\n",
       "          docLink.innerHTML = docLinkHtml;\n",
       "          element.appendChild(docLink);\n",
       "        }\n",
       "      </script>\n",
       "    </div>\n",
       "  </div>\n",
       "  "
      ],
      "text/plain": [
       "             Current       Humidity    Temperature           Flow  \\\n",
       "count  827534.000000  827534.000000  827534.000000  827534.000000   \n",
       "mean        8.673908      74.956373      23.884997       1.763230   \n",
       "std        13.219328      10.374707       3.491204       1.741196   \n",
       "min        -2.000000       0.000000     -13.000000       0.000000   \n",
       "25%         0.260000      72.000000      24.000000       0.000000   \n",
       "50%         2.250000      76.000000      24.000000       1.600000   \n",
       "75%        13.677500      79.000000      25.000000       3.140000   \n",
       "max       163.000000    2444.000000     828.000000      14.470000   \n",
       "\n",
       "            Job Temp        Voltage        Defects  \n",
       "count  827534.000000  827534.000000  827534.000000  \n",
       "mean      136.406572       2.846528       0.990354  \n",
       "std       558.122529       4.616725       0.097737  \n",
       "min         0.000000      -2.578000       0.000000  \n",
       "25%        29.800000       0.000000       1.000000  \n",
       "50%        31.300000       0.000000       1.000000  \n",
       "75%        35.600000       8.660000       1.000000  \n",
       "max      3276.700000      24.499000       1.000000  "
      ]
     },
     "execution_count": 49,
     "metadata": {},
     "output_type": "execute_result"
    }
   ],
   "source": [
    "# stastical analysis of every coloumn\n",
    "data.describe()"
   ]
  },
  {
   "cell_type": "markdown",
   "id": "8a09fc1a",
   "metadata": {
    "id": "8a09fc1a"
   },
   "source": [
    "## *PEARSON'S CORRELATION*"
   ]
  },
  {
   "cell_type": "code",
   "execution_count": null,
   "id": "110e3236",
   "metadata": {
    "colab": {
     "base_uri": "https://localhost:8080/",
     "height": 269
    },
    "executionInfo": {
     "elapsed": 3,
     "status": "ok",
     "timestamp": 1670001128069,
     "user": {
      "displayName": "KUMAR AMAN",
      "userId": "15083373476895626314"
     },
     "user_tz": -330
    },
    "id": "110e3236",
    "outputId": "d4414c73-2357-4049-f620-1b2c2038eace"
   },
   "outputs": [
    {
     "data": {
      "text/html": [
       "\n",
       "  <div id=\"df-6265f7e6-f403-46d3-8f30-8b4ee659b5f5\">\n",
       "    <div class=\"colab-df-container\">\n",
       "      <div>\n",
       "<style scoped>\n",
       "    .dataframe tbody tr th:only-of-type {\n",
       "        vertical-align: middle;\n",
       "    }\n",
       "\n",
       "    .dataframe tbody tr th {\n",
       "        vertical-align: top;\n",
       "    }\n",
       "\n",
       "    .dataframe thead th {\n",
       "        text-align: right;\n",
       "    }\n",
       "</style>\n",
       "<table border=\"1\" class=\"dataframe\">\n",
       "  <thead>\n",
       "    <tr style=\"text-align: right;\">\n",
       "      <th></th>\n",
       "      <th>Current</th>\n",
       "      <th>Humidity</th>\n",
       "      <th>Temperature</th>\n",
       "      <th>Flow</th>\n",
       "      <th>Job Temp</th>\n",
       "      <th>Voltage</th>\n",
       "      <th>Defects</th>\n",
       "    </tr>\n",
       "  </thead>\n",
       "  <tbody>\n",
       "    <tr>\n",
       "      <th>Current</th>\n",
       "      <td>1.000000</td>\n",
       "      <td>-0.011689</td>\n",
       "      <td>-0.009614</td>\n",
       "      <td>0.089914</td>\n",
       "      <td>0.017546</td>\n",
       "      <td>0.705117</td>\n",
       "      <td>-0.061860</td>\n",
       "    </tr>\n",
       "    <tr>\n",
       "      <th>Humidity</th>\n",
       "      <td>-0.011689</td>\n",
       "      <td>1.000000</td>\n",
       "      <td>0.707087</td>\n",
       "      <td>-0.029554</td>\n",
       "      <td>-0.074149</td>\n",
       "      <td>-0.074754</td>\n",
       "      <td>0.017187</td>\n",
       "    </tr>\n",
       "    <tr>\n",
       "      <th>Temperature</th>\n",
       "      <td>-0.009614</td>\n",
       "      <td>0.707087</td>\n",
       "      <td>1.000000</td>\n",
       "      <td>-0.005525</td>\n",
       "      <td>-0.035515</td>\n",
       "      <td>-0.032865</td>\n",
       "      <td>0.007575</td>\n",
       "    </tr>\n",
       "    <tr>\n",
       "      <th>Flow</th>\n",
       "      <td>0.089914</td>\n",
       "      <td>-0.029554</td>\n",
       "      <td>-0.005525</td>\n",
       "      <td>1.000000</td>\n",
       "      <td>0.138386</td>\n",
       "      <td>0.137254</td>\n",
       "      <td>0.003218</td>\n",
       "    </tr>\n",
       "    <tr>\n",
       "      <th>Job Temp</th>\n",
       "      <td>0.017546</td>\n",
       "      <td>-0.074149</td>\n",
       "      <td>-0.035515</td>\n",
       "      <td>0.138386</td>\n",
       "      <td>1.000000</td>\n",
       "      <td>0.054911</td>\n",
       "      <td>-0.016184</td>\n",
       "    </tr>\n",
       "    <tr>\n",
       "      <th>Voltage</th>\n",
       "      <td>0.705117</td>\n",
       "      <td>-0.074754</td>\n",
       "      <td>-0.032865</td>\n",
       "      <td>0.137254</td>\n",
       "      <td>0.054911</td>\n",
       "      <td>1.000000</td>\n",
       "      <td>-0.059863</td>\n",
       "    </tr>\n",
       "    <tr>\n",
       "      <th>Defects</th>\n",
       "      <td>-0.061860</td>\n",
       "      <td>0.017187</td>\n",
       "      <td>0.007575</td>\n",
       "      <td>0.003218</td>\n",
       "      <td>-0.016184</td>\n",
       "      <td>-0.059863</td>\n",
       "      <td>1.000000</td>\n",
       "    </tr>\n",
       "  </tbody>\n",
       "</table>\n",
       "</div>\n",
       "      <button class=\"colab-df-convert\" onclick=\"convertToInteractive('df-6265f7e6-f403-46d3-8f30-8b4ee659b5f5')\"\n",
       "              title=\"Convert this dataframe to an interactive table.\"\n",
       "              style=\"display:none;\">\n",
       "        \n",
       "  <svg xmlns=\"http://www.w3.org/2000/svg\" height=\"24px\"viewBox=\"0 0 24 24\"\n",
       "       width=\"24px\">\n",
       "    <path d=\"M0 0h24v24H0V0z\" fill=\"none\"/>\n",
       "    <path d=\"M18.56 5.44l.94 2.06.94-2.06 2.06-.94-2.06-.94-.94-2.06-.94 2.06-2.06.94zm-11 1L8.5 8.5l.94-2.06 2.06-.94-2.06-.94L8.5 2.5l-.94 2.06-2.06.94zm10 10l.94 2.06.94-2.06 2.06-.94-2.06-.94-.94-2.06-.94 2.06-2.06.94z\"/><path d=\"M17.41 7.96l-1.37-1.37c-.4-.4-.92-.59-1.43-.59-.52 0-1.04.2-1.43.59L10.3 9.45l-7.72 7.72c-.78.78-.78 2.05 0 2.83L4 21.41c.39.39.9.59 1.41.59.51 0 1.02-.2 1.41-.59l7.78-7.78 2.81-2.81c.8-.78.8-2.07 0-2.86zM5.41 20L4 18.59l7.72-7.72 1.47 1.35L5.41 20z\"/>\n",
       "  </svg>\n",
       "      </button>\n",
       "      \n",
       "  <style>\n",
       "    .colab-df-container {\n",
       "      display:flex;\n",
       "      flex-wrap:wrap;\n",
       "      gap: 12px;\n",
       "    }\n",
       "\n",
       "    .colab-df-convert {\n",
       "      background-color: #E8F0FE;\n",
       "      border: none;\n",
       "      border-radius: 50%;\n",
       "      cursor: pointer;\n",
       "      display: none;\n",
       "      fill: #1967D2;\n",
       "      height: 32px;\n",
       "      padding: 0 0 0 0;\n",
       "      width: 32px;\n",
       "    }\n",
       "\n",
       "    .colab-df-convert:hover {\n",
       "      background-color: #E2EBFA;\n",
       "      box-shadow: 0px 1px 2px rgba(60, 64, 67, 0.3), 0px 1px 3px 1px rgba(60, 64, 67, 0.15);\n",
       "      fill: #174EA6;\n",
       "    }\n",
       "\n",
       "    [theme=dark] .colab-df-convert {\n",
       "      background-color: #3B4455;\n",
       "      fill: #D2E3FC;\n",
       "    }\n",
       "\n",
       "    [theme=dark] .colab-df-convert:hover {\n",
       "      background-color: #434B5C;\n",
       "      box-shadow: 0px 1px 3px 1px rgba(0, 0, 0, 0.15);\n",
       "      filter: drop-shadow(0px 1px 2px rgba(0, 0, 0, 0.3));\n",
       "      fill: #FFFFFF;\n",
       "    }\n",
       "  </style>\n",
       "\n",
       "      <script>\n",
       "        const buttonEl =\n",
       "          document.querySelector('#df-6265f7e6-f403-46d3-8f30-8b4ee659b5f5 button.colab-df-convert');\n",
       "        buttonEl.style.display =\n",
       "          google.colab.kernel.accessAllowed ? 'block' : 'none';\n",
       "\n",
       "        async function convertToInteractive(key) {\n",
       "          const element = document.querySelector('#df-6265f7e6-f403-46d3-8f30-8b4ee659b5f5');\n",
       "          const dataTable =\n",
       "            await google.colab.kernel.invokeFunction('convertToInteractive',\n",
       "                                                     [key], {});\n",
       "          if (!dataTable) return;\n",
       "\n",
       "          const docLinkHtml = 'Like what you see? Visit the ' +\n",
       "            '<a target=\"_blank\" href=https://colab.research.google.com/notebooks/data_table.ipynb>data table notebook</a>'\n",
       "            + ' to learn more about interactive tables.';\n",
       "          element.innerHTML = '';\n",
       "          dataTable['output_type'] = 'display_data';\n",
       "          await google.colab.output.renderOutput(dataTable, element);\n",
       "          const docLink = document.createElement('div');\n",
       "          docLink.innerHTML = docLinkHtml;\n",
       "          element.appendChild(docLink);\n",
       "        }\n",
       "      </script>\n",
       "    </div>\n",
       "  </div>\n",
       "  "
      ],
      "text/plain": [
       "              Current  Humidity  Temperature      Flow  Job Temp   Voltage  \\\n",
       "Current      1.000000 -0.011689    -0.009614  0.089914  0.017546  0.705117   \n",
       "Humidity    -0.011689  1.000000     0.707087 -0.029554 -0.074149 -0.074754   \n",
       "Temperature -0.009614  0.707087     1.000000 -0.005525 -0.035515 -0.032865   \n",
       "Flow         0.089914 -0.029554    -0.005525  1.000000  0.138386  0.137254   \n",
       "Job Temp     0.017546 -0.074149    -0.035515  0.138386  1.000000  0.054911   \n",
       "Voltage      0.705117 -0.074754    -0.032865  0.137254  0.054911  1.000000   \n",
       "Defects     -0.061860  0.017187     0.007575  0.003218 -0.016184 -0.059863   \n",
       "\n",
       "              Defects  \n",
       "Current     -0.061860  \n",
       "Humidity     0.017187  \n",
       "Temperature  0.007575  \n",
       "Flow         0.003218  \n",
       "Job Temp    -0.016184  \n",
       "Voltage     -0.059863  \n",
       "Defects      1.000000  "
      ]
     },
     "execution_count": 50,
     "metadata": {},
     "output_type": "execute_result"
    }
   ],
   "source": [
    "x = data.corr()\n",
    "x"
   ]
  },
  {
   "cell_type": "code",
   "execution_count": null,
   "id": "bd1a831e",
   "metadata": {
    "colab": {
     "base_uri": "https://localhost:8080/",
     "height": 598
    },
    "executionInfo": {
     "elapsed": 4,
     "status": "ok",
     "timestamp": 1670001132068,
     "user": {
      "displayName": "KUMAR AMAN",
      "userId": "15083373476895626314"
     },
     "user_tz": -330
    },
    "id": "bd1a831e",
    "outputId": "2f05be2e-1331-4e06-8a56-c8bd6a0017f9"
   },
   "outputs": [
    {
     "data": {
      "image/png": "[encoded data removed]",
      "text/plain": [
       "<Figure size 1080x720 with 2 Axes>"
      ]
     },
     "metadata": {},
     "output_type": "display_data"
    }
   ],
   "source": [
    "sns.set(rc = {'figure.figsize' : (15,10)})\n",
    "dataplot = sns.heatmap(x,cmap =\"Blues\", annot=True)"
   ]
  },
  {
   "cell_type": "markdown",
   "id": "8834d358",
   "metadata": {
    "id": "8834d358"
   },
   "source": [
    "#### *NOTE: It can be seen from above heatmap that temperature and humidity are highly correlated and same goes for current and voltage*"
   ]
  },
  {
   "cell_type": "markdown",
   "id": "77e9ae80",
   "metadata": {
    "id": "77e9ae80"
   },
   "source": [
    "## *KENDALL CORRELATION*"
   ]
  },
  {
   "cell_type": "code",
   "execution_count": null,
   "id": "891fb7ea",
   "metadata": {
    "id": "891fb7ea"
   },
   "outputs": [],
   "source": [
    "from scipy.stats import kendalltau"
   ]
  },
  {
   "cell_type": "code",
   "execution_count": null,
   "id": "bc19ece1",
   "metadata": {
    "colab": {
     "base_uri": "https://localhost:8080/",
     "height": 304
    },
    "executionInfo": {
     "elapsed": 4370,
     "status": "ok",
     "timestamp": 1670001150424,
     "user": {
      "displayName": "KUMAR AMAN",
      "userId": "15083373476895626314"
     },
     "user_tz": -330
    },
    "id": "bc19ece1",
    "outputId": "8d02893d-f2b3-4feb-d238-f07664f48b0c"
   },
   "outputs": [
    {
     "name": "stderr",
     "output_type": "stream",
     "text": [
      "/usr/local/lib/python3.8/dist-packages/scipy/stats/stats.py:4812: RuntimeWarning: overflow encountered in long_scalars\n",
      "  (2 * xtie * ytie) / m + x0 * y0 / (9 * m * (size - 2)))\n"
     ]
    },
    {
     "data": {
      "text/html": [
       "\n",
       "  <div id=\"df-83995e46-71e4-4efe-9595-c915381070dc\">\n",
       "    <div class=\"colab-df-container\">\n",
       "      <div>\n",
       "<style scoped>\n",
       "    .dataframe tbody tr th:only-of-type {\n",
       "        vertical-align: middle;\n",
       "    }\n",
       "\n",
       "    .dataframe tbody tr th {\n",
       "        vertical-align: top;\n",
       "    }\n",
       "\n",
       "    .dataframe thead th {\n",
       "        text-align: right;\n",
       "    }\n",
       "</style>\n",
       "<table border=\"1\" class=\"dataframe\">\n",
       "  <thead>\n",
       "    <tr style=\"text-align: right;\">\n",
       "      <th></th>\n",
       "      <th>Current</th>\n",
       "      <th>Humidity</th>\n",
       "      <th>Temperature</th>\n",
       "      <th>Flow</th>\n",
       "      <th>Job Temp</th>\n",
       "      <th>Voltage</th>\n",
       "      <th>Defects</th>\n",
       "    </tr>\n",
       "  </thead>\n",
       "  <tbody>\n",
       "    <tr>\n",
       "      <th>Current</th>\n",
       "      <td>1.000000</td>\n",
       "      <td>0.072545</td>\n",
       "      <td>0.034467</td>\n",
       "      <td>0.028312</td>\n",
       "      <td>-0.009318</td>\n",
       "      <td>0.488805</td>\n",
       "      <td>-0.045762</td>\n",
       "    </tr>\n",
       "    <tr>\n",
       "      <th>Humidity</th>\n",
       "      <td>0.072545</td>\n",
       "      <td>1.000000</td>\n",
       "      <td>0.100859</td>\n",
       "      <td>-0.065219</td>\n",
       "      <td>-0.213371</td>\n",
       "      <td>-0.056530</td>\n",
       "      <td>0.012245</td>\n",
       "    </tr>\n",
       "    <tr>\n",
       "      <th>Temperature</th>\n",
       "      <td>0.034467</td>\n",
       "      <td>0.100859</td>\n",
       "      <td>1.000000</td>\n",
       "      <td>0.036138</td>\n",
       "      <td>0.189598</td>\n",
       "      <td>0.009569</td>\n",
       "      <td>0.003389</td>\n",
       "    </tr>\n",
       "    <tr>\n",
       "      <th>Flow</th>\n",
       "      <td>0.028312</td>\n",
       "      <td>-0.065219</td>\n",
       "      <td>0.036138</td>\n",
       "      <td>1.000000</td>\n",
       "      <td>0.095686</td>\n",
       "      <td>0.113371</td>\n",
       "      <td>0.001690</td>\n",
       "    </tr>\n",
       "    <tr>\n",
       "      <th>Job Temp</th>\n",
       "      <td>-0.009318</td>\n",
       "      <td>-0.213371</td>\n",
       "      <td>0.189598</td>\n",
       "      <td>0.095686</td>\n",
       "      <td>1.000000</td>\n",
       "      <td>0.107673</td>\n",
       "      <td>-0.021156</td>\n",
       "    </tr>\n",
       "    <tr>\n",
       "      <th>Voltage</th>\n",
       "      <td>0.488805</td>\n",
       "      <td>-0.056530</td>\n",
       "      <td>0.009569</td>\n",
       "      <td>0.113371</td>\n",
       "      <td>0.107673</td>\n",
       "      <td>1.000000</td>\n",
       "      <td>-0.064081</td>\n",
       "    </tr>\n",
       "    <tr>\n",
       "      <th>Defects</th>\n",
       "      <td>-0.045762</td>\n",
       "      <td>0.012245</td>\n",
       "      <td>0.003389</td>\n",
       "      <td>0.001690</td>\n",
       "      <td>-0.021156</td>\n",
       "      <td>-0.064081</td>\n",
       "      <td>1.000000</td>\n",
       "    </tr>\n",
       "  </tbody>\n",
       "</table>\n",
       "</div>\n",
       "      <button class=\"colab-df-convert\" onclick=\"convertToInteractive('df-83995e46-71e4-4efe-9595-c915381070dc')\"\n",
       "              title=\"Convert this dataframe to an interactive table.\"\n",
       "              style=\"display:none;\">\n",
       "        \n",
       "  <svg xmlns=\"http://www.w3.org/2000/svg\" height=\"24px\"viewBox=\"0 0 24 24\"\n",
       "       width=\"24px\">\n",
       "    <path d=\"M0 0h24v24H0V0z\" fill=\"none\"/>\n",
       "    <path d=\"M18.56 5.44l.94 2.06.94-2.06 2.06-.94-2.06-.94-.94-2.06-.94 2.06-2.06.94zm-11 1L8.5 8.5l.94-2.06 2.06-.94-2.06-.94L8.5 2.5l-.94 2.06-2.06.94zm10 10l.94 2.06.94-2.06 2.06-.94-2.06-.94-.94-2.06-.94 2.06-2.06.94z\"/><path d=\"M17.41 7.96l-1.37-1.37c-.4-.4-.92-.59-1.43-.59-.52 0-1.04.2-1.43.59L10.3 9.45l-7.72 7.72c-.78.78-.78 2.05 0 2.83L4 21.41c.39.39.9.59 1.41.59.51 0 1.02-.2 1.41-.59l7.78-7.78 2.81-2.81c.8-.78.8-2.07 0-2.86zM5.41 20L4 18.59l7.72-7.72 1.47 1.35L5.41 20z\"/>\n",
       "  </svg>\n",
       "      </button>\n",
       "      \n",
       "  <style>\n",
       "    .colab-df-container {\n",
       "      display:flex;\n",
       "      flex-wrap:wrap;\n",
       "      gap: 12px;\n",
       "    }\n",
       "\n",
       "    .colab-df-convert {\n",
       "      background-color: #E8F0FE;\n",
       "      border: none;\n",
       "      border-radius: 50%;\n",
       "      cursor: pointer;\n",
       "      display: none;\n",
       "      fill: #1967D2;\n",
       "      height: 32px;\n",
       "      padding: 0 0 0 0;\n",
       "      width: 32px;\n",
       "    }\n",
       "\n",
       "    .colab-df-convert:hover {\n",
       "      background-color: #E2EBFA;\n",
       "      box-shadow: 0px 1px 2px rgba(60, 64, 67, 0.3), 0px 1px 3px 1px rgba(60, 64, 67, 0.15);\n",
       "      fill: #174EA6;\n",
       "    }\n",
       "\n",
       "    [theme=dark] .colab-df-convert {\n",
       "      background-color: #3B4455;\n",
       "      fill: #D2E3FC;\n",
       "    }\n",
       "\n",
       "    [theme=dark] .colab-df-convert:hover {\n",
       "      background-color: #434B5C;\n",
       "      box-shadow: 0px 1px 3px 1px rgba(0, 0, 0, 0.15);\n",
       "      filter: drop-shadow(0px 1px 2px rgba(0, 0, 0, 0.3));\n",
       "      fill: #FFFFFF;\n",
       "    }\n",
       "  </style>\n",
       "\n",
       "      <script>\n",
       "        const buttonEl =\n",
       "          document.querySelector('#df-83995e46-71e4-4efe-9595-c915381070dc button.colab-df-convert');\n",
       "        buttonEl.style.display =\n",
       "          google.colab.kernel.accessAllowed ? 'block' : 'none';\n",
       "\n",
       "        async function convertToInteractive(key) {\n",
       "          const element = document.querySelector('#df-83995e46-71e4-4efe-9595-c915381070dc');\n",
       "          const dataTable =\n",
       "            await google.colab.kernel.invokeFunction('convertToInteractive',\n",
       "                                                     [key], {});\n",
       "          if (!dataTable) return;\n",
       "\n",
       "          const docLinkHtml = 'Like what you see? Visit the ' +\n",
       "            '<a target=\"_blank\" href=https://colab.research.google.com/notebooks/data_table.ipynb>data table notebook</a>'\n",
       "            + ' to learn more about interactive tables.';\n",
       "          element.innerHTML = '';\n",
       "          dataTable['output_type'] = 'display_data';\n",
       "          await google.colab.output.renderOutput(dataTable, element);\n",
       "          const docLink = document.createElement('div');\n",
       "          docLink.innerHTML = docLinkHtml;\n",
       "          element.appendChild(docLink);\n",
       "        }\n",
       "      </script>\n",
       "    </div>\n",
       "  </div>\n",
       "  "
      ],
      "text/plain": [
       "              Current  Humidity  Temperature      Flow  Job Temp   Voltage  \\\n",
       "Current      1.000000  0.072545     0.034467  0.028312 -0.009318  0.488805   \n",
       "Humidity     0.072545  1.000000     0.100859 -0.065219 -0.213371 -0.056530   \n",
       "Temperature  0.034467  0.100859     1.000000  0.036138  0.189598  0.009569   \n",
       "Flow         0.028312 -0.065219     0.036138  1.000000  0.095686  0.113371   \n",
       "Job Temp    -0.009318 -0.213371     0.189598  0.095686  1.000000  0.107673   \n",
       "Voltage      0.488805 -0.056530     0.009569  0.113371  0.107673  1.000000   \n",
       "Defects     -0.045762  0.012245     0.003389  0.001690 -0.021156 -0.064081   \n",
       "\n",
       "              Defects  \n",
       "Current     -0.045762  \n",
       "Humidity     0.012245  \n",
       "Temperature  0.003389  \n",
       "Flow         0.001690  \n",
       "Job Temp    -0.021156  \n",
       "Voltage     -0.064081  \n",
       "Defects      1.000000  "
      ]
     },
     "execution_count": 53,
     "metadata": {},
     "output_type": "execute_result"
    }
   ],
   "source": [
    "y = data.corr(method='kendall')\n",
    "y"
   ]
  },
  {
   "cell_type": "code",
   "execution_count": null,
   "id": "7d909260",
   "metadata": {
    "colab": {
     "base_uri": "https://localhost:8080/",
     "height": 598
    },
    "executionInfo": {
     "elapsed": 1082,
     "status": "ok",
     "timestamp": 1670001153858,
     "user": {
      "displayName": "KUMAR AMAN",
      "userId": "15083373476895626314"
     },
     "user_tz": -330
    },
    "id": "7d909260",
    "outputId": "9c5d42a5-9c1e-45cc-990b-7817b71ea982"
   },
   "outputs": [
    {
     "data": {
      "image/png": "[encoded data removed]",
      "text/plain": [
       "<Figure size 1080x720 with 2 Axes>"
      ]
     },
     "metadata": {},
     "output_type": "display_data"
    }
   ],
   "source": [
    "sns.set(rc = {'figure.figsize' : (15,10)})\n",
    "dataplot = sns.heatmap(y,cmap =\"Blues\", annot=True)"
   ]
  },
  {
   "cell_type": "markdown",
   "id": "6979894a",
   "metadata": {
    "id": "6979894a"
   },
   "source": [
    "### *Temperature and Defects*"
   ]
  },
  {
   "cell_type": "code",
   "execution_count": null,
   "id": "605ad792",
   "metadata": {
    "colab": {
     "base_uri": "https://localhost:8080/"
    },
    "executionInfo": {
     "elapsed": 629,
     "status": "ok",
     "timestamp": 1670001161935,
     "user": {
      "displayName": "KUMAR AMAN",
      "userId": "15083373476895626314"
     },
     "user_tz": -330
    },
    "id": "605ad792",
    "outputId": "6df2f24b-f0a4-4659-ffdf-0aae154bada2"
   },
   "outputs": [
    {
     "name": "stdout",
     "output_type": "stream",
     "text": [
      "Kendall Rank correlation:0.00339\n",
      "P VALUE: 0.00078\n"
     ]
    },
    {
     "name": "stderr",
     "output_type": "stream",
     "text": [
      "/usr/local/lib/python3.8/dist-packages/scipy/stats/stats.py:4812: RuntimeWarning: overflow encountered in long_scalars\n",
      "  (2 * xtie * ytie) / m + x0 * y0 / (9 * m * (size - 2)))\n"
     ]
    }
   ],
   "source": [
    "tau, p_value = stats.kendalltau(data['Temperature'], data['Defects'])\n",
    "print(f\"Kendall Rank correlation:%.5f\" %tau)\n",
    "print(f\"P VALUE: %.5f\" %p_value)"
   ]
  },
  {
   "cell_type": "markdown",
   "id": "fa77dd73",
   "metadata": {
    "id": "fa77dd73"
   },
   "source": [
    "### *Current and Defects*"
   ]
  },
  {
   "cell_type": "code",
   "execution_count": null,
   "id": "259c63bb",
   "metadata": {
    "colab": {
     "base_uri": "https://localhost:8080/"
    },
    "executionInfo": {
     "elapsed": 401,
     "status": "ok",
     "timestamp": 1670001167187,
     "user": {
      "displayName": "KUMAR AMAN",
      "userId": "15083373476895626314"
     },
     "user_tz": -330
    },
    "id": "259c63bb",
    "outputId": "e92a4f37-117d-41c0-8d81-bce6f530e511"
   },
   "outputs": [
    {
     "name": "stdout",
     "output_type": "stream",
     "text": [
      "Kendall Rank correlation:-0.04576\n",
      "P VALUE: 0.00000\n"
     ]
    }
   ],
   "source": [
    "tau, p_value = stats.kendalltau(data['Current'], data['Defects'])\n",
    "print(f\"Kendall Rank correlation:%.5f\" %tau)\n",
    "print(f\"P VALUE: %.5f\" %p_value)"
   ]
  },
  {
   "cell_type": "markdown",
   "id": "0a60de3b",
   "metadata": {
    "id": "0a60de3b"
   },
   "source": [
    "### *Humidity and Defects*"
   ]
  },
  {
   "cell_type": "code",
   "execution_count": null,
   "id": "13d0914b",
   "metadata": {
    "colab": {
     "base_uri": "https://localhost:8080/"
    },
    "executionInfo": {
     "elapsed": 415,
     "status": "ok",
     "timestamp": 1670001171490,
     "user": {
      "displayName": "KUMAR AMAN",
      "userId": "15083373476895626314"
     },
     "user_tz": -330
    },
    "id": "13d0914b",
    "outputId": "eefe4f98-7bb5-4cf2-986d-ccb102a5b1bb"
   },
   "outputs": [
    {
     "name": "stdout",
     "output_type": "stream",
     "text": [
      "Kendall Rank correlation:0.01225\n",
      "P VALUE: 0.00000\n"
     ]
    }
   ],
   "source": [
    "tau, p_value = stats.kendalltau(data['Humidity'], data['Defects'])\n",
    "print(f\"Kendall Rank correlation:%.5f\" %tau)\n",
    "print(f\"P VALUE: %.5f\" %p_value)"
   ]
  },
  {
   "cell_type": "markdown",
   "id": "65939f55",
   "metadata": {
    "id": "65939f55"
   },
   "source": [
    "### *Flow and Defects*"
   ]
  },
  {
   "cell_type": "code",
   "execution_count": null,
   "id": "9437957c",
   "metadata": {
    "colab": {
     "base_uri": "https://localhost:8080/"
    },
    "executionInfo": {
     "elapsed": 8,
     "status": "ok",
     "timestamp": 1670001175719,
     "user": {
      "displayName": "KUMAR AMAN",
      "userId": "15083373476895626314"
     },
     "user_tz": -330
    },
    "id": "9437957c",
    "outputId": "10332820-f7a6-48b2-885a-8fe7b2d54f88"
   },
   "outputs": [
    {
     "name": "stdout",
     "output_type": "stream",
     "text": [
      "Kendall Rank correlation:0.00169\n",
      "P VALUE: 0.06942\n"
     ]
    }
   ],
   "source": [
    "tau, p_value = stats.kendalltau(data['Flow'], data['Defects'])\n",
    "print(f\"Kendall Rank correlation:%.5f\" %tau)\n",
    "print(f\"P VALUE: %.5f\" %p_value)"
   ]
  },
  {
   "cell_type": "markdown",
   "id": "3bc0fd09",
   "metadata": {
    "id": "3bc0fd09"
   },
   "source": [
    "### *Job Temp and Defects*"
   ]
  },
  {
   "cell_type": "code",
   "execution_count": null,
   "id": "af38e645",
   "metadata": {
    "colab": {
     "base_uri": "https://localhost:8080/"
    },
    "executionInfo": {
     "elapsed": 411,
     "status": "ok",
     "timestamp": 1670001180511,
     "user": {
      "displayName": "KUMAR AMAN",
      "userId": "15083373476895626314"
     },
     "user_tz": -330
    },
    "id": "af38e645",
    "outputId": "88808354-5862-4128-d724-a835cad85415"
   },
   "outputs": [
    {
     "name": "stdout",
     "output_type": "stream",
     "text": [
      "Kendall Rank correlation:-0.02116\n",
      "P VALUE: 0.00000\n"
     ]
    }
   ],
   "source": [
    "tau, p_value = stats.kendalltau(data['Job Temp'], data['Defects'])\n",
    "print(f\"Kendall Rank correlation:%.5f\" %tau)\n",
    "print(f\"P VALUE: %.5f\" %p_value)"
   ]
  },
  {
   "cell_type": "markdown",
   "id": "7de0a388",
   "metadata": {
    "id": "7de0a388"
   },
   "source": [
    "### *Voltage and Defects*"
   ]
  },
  {
   "cell_type": "code",
   "execution_count": null,
   "id": "1433c6d6",
   "metadata": {
    "colab": {
     "base_uri": "https://localhost:8080/"
    },
    "executionInfo": {
     "elapsed": 674,
     "status": "ok",
     "timestamp": 1670001184790,
     "user": {
      "displayName": "KUMAR AMAN",
      "userId": "15083373476895626314"
     },
     "user_tz": -330
    },
    "id": "1433c6d6",
    "outputId": "041b171f-2343-4bf4-b368-f6057175284a"
   },
   "outputs": [
    {
     "name": "stdout",
     "output_type": "stream",
     "text": [
      "Kendall Rank correlation:-0.06408\n",
      "P VALUE: 0.00000\n"
     ]
    }
   ],
   "source": [
    "tau, p_value = stats.kendalltau(data['Voltage'], data['Defects'])\n",
    "print(f\"Kendall Rank correlation:%.5f\" %tau)\n",
    "print(f\"P VALUE: %.5f\" %p_value)"
   ]
  },
  {
   "cell_type": "markdown",
   "id": "f1bf492b",
   "metadata": {
    "id": "f1bf492b"
   },
   "source": []
  },
  {
   "cell_type": "markdown",
   "id": "c3c656fd",
   "metadata": {
    "id": "c3c656fd"
   },
   "source": [
    "## *BOX-PLOTS AND OUTLIERS ANALYSIS*"
   ]
  },
  {
   "cell_type": "code",
   "execution_count": null,
   "id": "a4a1a421",
   "metadata": {
    "colab": {
     "base_uri": "https://localhost:8080/",
     "height": 261
    },
    "executionInfo": {
     "elapsed": 6131,
     "status": "ok",
     "timestamp": 1670001200237,
     "user": {
      "displayName": "KUMAR AMAN",
      "userId": "15083373476895626314"
     },
     "user_tz": -330
    },
    "id": "a4a1a421",
    "outputId": "05a90a3c-28ae-412d-8a75-5733b86b752a"
   },
   "outputs": [
    {
     "data": {
      "image/png": "[encoded data removed]",
      "text/plain": [
       "<Figure size 2880x2880 with 6 Axes>"
      ]
     },
     "metadata": {},
     "output_type": "display_data"
    }
   ],
   "source": [
    "plt.figure(figsize=(40,40))\n",
    "plt.subplots_adjust(hspace=1)\n",
    "i=1\n",
    "for col_name in data.drop(columns=[\"Defects\"],axis=1).columns:\n",
    "    plt.subplot(5,10, i)\n",
    "    sns.boxplot(data=data, x='Defects', y=col_name)\n",
    "    i+=1"
   ]
  },
  {
   "cell_type": "code",
   "execution_count": null,
   "id": "def96574",
   "metadata": {
    "colab": {
     "base_uri": "https://localhost:8080/"
    },
    "executionInfo": {
     "elapsed": 430,
     "status": "ok",
     "timestamp": 1670001203866,
     "user": {
      "displayName": "KUMAR AMAN",
      "userId": "15083373476895626314"
     },
     "user_tz": -330
    },
    "id": "def96574",
    "outputId": "a2391aaf-9830-44a9-823b-e8b6a6b1e547"
   },
   "outputs": [
    {
     "data": {
      "text/plain": [
       "count    827534.000000\n",
       "mean          8.673908\n",
       "std          13.219328\n",
       "min          -2.000000\n",
       "25%           0.260000\n",
       "50%           2.250000\n",
       "75%          13.677500\n",
       "max         163.000000\n",
       "Name: Current, dtype: float64"
      ]
     },
     "execution_count": 62,
     "metadata": {},
     "output_type": "execute_result"
    }
   ],
   "source": [
    "# we are visualizing Outliers in 'Current' , 'Humidity' ,'Temperature','Flow','Job Temp','Voltage'\n",
    "data.Current.describe()"
   ]
  },
  {
   "cell_type": "code",
   "execution_count": null,
   "id": "6f4faeb1",
   "metadata": {
    "id": "6f4faeb1"
   },
   "outputs": [],
   "source": [
    " first_quartile_C = data[\"Current\"].quantile(.99)"
   ]
  },
  {
   "cell_type": "code",
   "execution_count": null,
   "id": "a77308aa",
   "metadata": {
    "colab": {
     "base_uri": "https://localhost:8080/"
    },
    "executionInfo": {
     "elapsed": 4,
     "status": "ok",
     "timestamp": 1670001210015,
     "user": {
      "displayName": "KUMAR AMAN",
      "userId": "15083373476895626314"
     },
     "user_tz": -330
    },
    "id": "a77308aa",
    "outputId": "6c1561f7-0bc0-4da9-96d3-9587f4e679d2"
   },
   "outputs": [
    {
     "data": {
      "text/plain": [
       "50.48"
      ]
     },
     "execution_count": 64,
     "metadata": {},
     "output_type": "execute_result"
    }
   ],
   "source": [
    " first_quartile_C"
   ]
  },
  {
   "cell_type": "code",
   "execution_count": null,
   "id": "9cb25d5a",
   "metadata": {
    "id": "9cb25d5a"
   },
   "outputs": [],
   "source": [
    "first_quartile_H = data[\"Humidity\"].quantile(.99)"
   ]
  },
  {
   "cell_type": "code",
   "execution_count": null,
   "id": "589c1cac",
   "metadata": {
    "colab": {
     "base_uri": "https://localhost:8080/"
    },
    "executionInfo": {
     "elapsed": 3,
     "status": "ok",
     "timestamp": 1670001215115,
     "user": {
      "displayName": "KUMAR AMAN",
      "userId": "15083373476895626314"
     },
     "user_tz": -330
    },
    "id": "589c1cac",
    "outputId": "0cf63284-1b21-4341-8d1e-3f1939196bbb"
   },
   "outputs": [
    {
     "data": {
      "text/plain": [
       "86.0"
      ]
     },
     "execution_count": 66,
     "metadata": {},
     "output_type": "execute_result"
    }
   ],
   "source": [
    " first_quartile_H"
   ]
  },
  {
   "cell_type": "code",
   "execution_count": null,
   "id": "9c6c079f",
   "metadata": {
    "id": "9c6c079f"
   },
   "outputs": [],
   "source": [
    "first_quartile_T = data[\"Temperature\"].quantile(.99)"
   ]
  },
  {
   "cell_type": "code",
   "execution_count": null,
   "id": "81384de3",
   "metadata": {
    "colab": {
     "base_uri": "https://localhost:8080/"
    },
    "executionInfo": {
     "elapsed": 2,
     "status": "ok",
     "timestamp": 1670001219403,
     "user": {
      "displayName": "KUMAR AMAN",
      "userId": "15083373476895626314"
     },
     "user_tz": -330
    },
    "id": "81384de3",
    "outputId": "aa71bcf6-b9db-400d-adab-d0eee6471f2e"
   },
   "outputs": [
    {
     "data": {
      "text/plain": [
       "26.0"
      ]
     },
     "execution_count": 68,
     "metadata": {},
     "output_type": "execute_result"
    }
   ],
   "source": [
    "first_quartile_T"
   ]
  },
  {
   "cell_type": "code",
   "execution_count": null,
   "id": "c84f645a",
   "metadata": {
    "id": "c84f645a"
   },
   "outputs": [],
   "source": [
    "first_quartile_V = data[\"Voltage\"].quantile(.99)"
   ]
  },
  {
   "cell_type": "code",
   "execution_count": null,
   "id": "79cfc8cc",
   "metadata": {
    "colab": {
     "base_uri": "https://localhost:8080/"
    },
    "executionInfo": {
     "elapsed": 496,
     "status": "ok",
     "timestamp": 1670001224633,
     "user": {
      "displayName": "KUMAR AMAN",
      "userId": "15083373476895626314"
     },
     "user_tz": -330
    },
    "id": "79cfc8cc",
    "outputId": "8780fb3c-5940-4995-e9b6-781ae2108ff8"
   },
   "outputs": [
    {
     "data": {
      "text/plain": [
       "14.001340000000084"
      ]
     },
     "execution_count": 70,
     "metadata": {},
     "output_type": "execute_result"
    }
   ],
   "source": [
    "first_quartile_V"
   ]
  },
  {
   "cell_type": "code",
   "execution_count": null,
   "id": "e0230abf",
   "metadata": {
    "id": "e0230abf"
   },
   "outputs": [],
   "source": [
    "first_quartile_JT = data[\"Job Temp\"].quantile(.98)"
   ]
  },
  {
   "cell_type": "code",
   "execution_count": null,
   "id": "0d68f370",
   "metadata": {
    "colab": {
     "base_uri": "https://localhost:8080/"
    },
    "executionInfo": {
     "elapsed": 4,
     "status": "ok",
     "timestamp": 1670001228553,
     "user": {
      "displayName": "KUMAR AMAN",
      "userId": "15083373476895626314"
     },
     "user_tz": -330
    },
    "id": "0d68f370",
    "outputId": "62e6ca4a-6aaf-4089-a125-79aadcf83ae1"
   },
   "outputs": [
    {
     "data": {
      "text/plain": [
       "3274.3"
      ]
     },
     "execution_count": 72,
     "metadata": {},
     "output_type": "execute_result"
    }
   ],
   "source": [
    "first_quartile_JT"
   ]
  },
  {
   "cell_type": "code",
   "execution_count": null,
   "id": "553a571b",
   "metadata": {
    "id": "553a571b"
   },
   "outputs": [],
   "source": [
    "first_quartile_F = data[\"Flow\"].quantile(.99)"
   ]
  },
  {
   "cell_type": "code",
   "execution_count": null,
   "id": "46f9dd89",
   "metadata": {
    "colab": {
     "base_uri": "https://localhost:8080/"
    },
    "executionInfo": {
     "elapsed": 2,
     "status": "ok",
     "timestamp": 1670001232017,
     "user": {
      "displayName": "KUMAR AMAN",
      "userId": "15083373476895626314"
     },
     "user_tz": -330
    },
    "id": "46f9dd89",
    "outputId": "f8b782a3-3d15-43e1-a92f-71b32d83a404"
   },
   "outputs": [
    {
     "data": {
      "text/plain": [
       "6.44"
      ]
     },
     "execution_count": 74,
     "metadata": {},
     "output_type": "execute_result"
    }
   ],
   "source": [
    "first_quartile_F"
   ]
  },
  {
   "cell_type": "code",
   "execution_count": null,
   "id": "f506fc57",
   "metadata": {
    "colab": {
     "base_uri": "https://localhost:8080/"
    },
    "executionInfo": {
     "elapsed": 2,
     "status": "ok",
     "timestamp": 1670001233419,
     "user": {
      "displayName": "KUMAR AMAN",
      "userId": "15083373476895626314"
     },
     "user_tz": -330
    },
    "id": "f506fc57",
    "outputId": "5f0a1228-e6b9-49ac-928a-faa88f04720d"
   },
   "outputs": [
    {
     "data": {
      "text/plain": [
       "1    819552\n",
       "0      7982\n",
       "Name: Defects, dtype: int64"
      ]
     },
     "execution_count": 75,
     "metadata": {},
     "output_type": "execute_result"
    }
   ],
   "source": [
    "data[\"Defects\"].value_counts()"
   ]
  },
  {
   "cell_type": "code",
   "execution_count": null,
   "id": "ae00d63d",
   "metadata": {
    "id": "ae00d63d"
   },
   "outputs": [],
   "source": []
  },
  {
   "cell_type": "code",
   "execution_count": null,
   "id": "0ddb7a7f",
   "metadata": {
    "colab": {
     "base_uri": "https://localhost:8080/",
     "height": 767
    },
    "executionInfo": {
     "elapsed": 1867,
     "status": "ok",
     "timestamp": 1670001239207,
     "user": {
      "displayName": "KUMAR AMAN",
      "userId": "15083373476895626314"
     },
     "user_tz": -330
    },
    "id": "0ddb7a7f",
    "outputId": "b42d3f53-0369-41d0-94e8-f11897e4dbe7"
   },
   "outputs": [
    {
     "data": {
      "image/png": "[encoded data removed]",
      "text/plain": [
       "<Figure size 2160x1440 with 1 Axes>"
      ]
     },
     "metadata": {},
     "output_type": "display_data"
    }
   ],
   "source": [
    "sns.set(rc = {'figure.figsize' : (30,20)})\n",
    "ax = sns.countplot(data=data, x=\"Temperature\", hue=\"Defects\")\n",
    "for p in ax.patches:\n",
    "        ax.annotate('%{:.1f}'.format(p.get_height()), (p.get_x()+0.1, p.get_height()+50))"
   ]
  },
  {
   "cell_type": "code",
   "execution_count": null,
   "id": "5f9cffa6",
   "metadata": {
    "colab": {
     "base_uri": "https://localhost:8080/",
     "height": 763
    },
    "executionInfo": {
     "elapsed": 3324,
     "status": "ok",
     "timestamp": 1670001245175,
     "user": {
      "displayName": "KUMAR AMAN",
      "userId": "15083373476895626314"
     },
     "user_tz": -330
    },
    "id": "5f9cffa6",
    "outputId": "0ed54ad1-5c9c-465d-cfb9-4e568ef5608b"
   },
   "outputs": [
    {
     "data": {
      "image/png": "[encoded data removed]",
      "text/plain": [
       "<Figure size 2160x1440 with 1 Axes>"
      ]
     },
     "metadata": {},
     "output_type": "display_data"
    }
   ],
   "source": [
    "sns.set(rc = {'figure.figsize' : (30,20)})\n",
    "ax = sns.countplot(data=data, x=\"Humidity\", hue=\"Defects\")\n",
    "for p in ax.patches:\n",
    "        ax.annotate('%{:.1f}'.format(p.get_height()), (p.get_x()+0.1, p.get_height()+50))"
   ]
  },
  {
   "cell_type": "code",
   "execution_count": null,
   "id": "5c5095e7",
   "metadata": {
    "colab": {
     "base_uri": "https://localhost:8080/",
     "height": 749
    },
    "executionInfo": {
     "elapsed": 47172,
     "status": "ok",
     "timestamp": 1670001294039,
     "user": {
      "displayName": "KUMAR AMAN",
      "userId": "15083373476895626314"
     },
     "user_tz": -330
    },
    "id": "5c5095e7",
    "outputId": "c48f0f1c-e541-45fa-d600-400db5ce605f"
   },
   "outputs": [
    {
     "data": {
      "image/png": "[encoded data removed]",
      "text/plain": [
       "<Figure size 2160x1440 with 1 Axes>"
      ]
     },
     "metadata": {},
     "output_type": "display_data"
    }
   ],
   "source": [
    "sns.set(rc = {'figure.figsize' : (30,20)})\n",
    "ax = sns.countplot(data=data, x=\"Job Temp\", hue=\"Defects\")\n",
    "for p in ax.patches:\n",
    "        ax.annotate('%{:.1f}'.format(p.get_height()), (p.get_x()+0.1, p.get_height()+50))"
   ]
  },
  {
   "cell_type": "markdown",
   "id": "d676f321",
   "metadata": {
    "id": "d676f321"
   },
   "source": [
    "# *DATA MODELLING*"
   ]
  },
  {
   "cell_type": "markdown",
   "id": "cb8a5787",
   "metadata": {
    "id": "cb8a5787"
   },
   "source": [
    "## *Train Test Split*"
   ]
  },
  {
   "cell_type": "code",
   "execution_count": null,
   "id": "332ff2d0",
   "metadata": {
    "id": "332ff2d0"
   },
   "outputs": [],
   "source": [
    "from sklearn.model_selection import train_test_split\n",
    "X = data.drop(['Defects'],axis=1)\n",
    "y = data['Defects']\n",
    "X_train, X_test, y_train, y_test = train_test_split(X, y, test_size=0.2, random_state=100, shuffle=True)"
   ]
  },
  {
   "cell_type": "code",
   "execution_count": null,
   "id": "3a2da0d2",
   "metadata": {
    "colab": {
     "base_uri": "https://localhost:8080/"
    },
    "executionInfo": {
     "elapsed": 2,
     "status": "ok",
     "timestamp": 1670001338190,
     "user": {
      "displayName": "KUMAR AMAN",
      "userId": "15083373476895626314"
     },
     "user_tz": -330
    },
    "id": "3a2da0d2",
    "outputId": "2a426d20-46d6-449a-b8d6-2297e6973682"
   },
   "outputs": [
    {
     "data": {
      "text/plain": [
       "1         1\n",
       "2         0\n",
       "3         1\n",
       "4         1\n",
       "5         1\n",
       "         ..\n",
       "827530    1\n",
       "827531    1\n",
       "827532    1\n",
       "827533    1\n",
       "827534    1\n",
       "Name: Defects, Length: 827534, dtype: int64"
      ]
     },
     "execution_count": 80,
     "metadata": {},
     "output_type": "execute_result"
    }
   ],
   "source": [
    "y"
   ]
  },
  {
   "cell_type": "code",
   "execution_count": null,
   "id": "cd31707d",
   "metadata": {
    "id": "cd31707d"
   },
   "outputs": [],
   "source": [
    "# importing modules\n",
    "from sklearn.model_selection import cross_val_score\n",
    "from sklearn.naive_bayes import GaussianNB\n",
    "from sklearn.linear_model import LogisticRegression\n",
    "from sklearn import tree\n",
    "from sklearn.neighbors import KNeighborsClassifier\n",
    "from sklearn.ensemble import RandomForestClassifier\n",
    "from sklearn.svm import SVC\n",
    "from sklearn.model_selection import KFold\n",
    "\n",
    "# metric \n",
    "from sklearn.metrics import confusion_matrix, classification_report"
   ]
  },
  {
   "cell_type": "markdown",
   "id": "342aef53",
   "metadata": {
    "id": "342aef53"
   },
   "source": [
    "## *Standardization*"
   ]
  },
  {
   "cell_type": "code",
   "execution_count": null,
   "id": "61c0ed05",
   "metadata": {
    "id": "61c0ed05"
   },
   "outputs": [],
   "source": [
    "# importing libraries\n",
    "from sklearn.preprocessing import StandardScaler, QuantileTransformer, RobustScaler\n",
    "\n",
    "# Standard Scalar \n",
    "sscaler = StandardScaler()\n",
    "X_train_ss = sscaler.fit_transform(X_train)\n",
    "X_test_ss = sscaler.transform(X_test)\n",
    "\n",
    "# Quantile Transformer \n",
    "qscaler = QuantileTransformer(n_quantiles=100, random_state=43, output_distribution='normal')\n",
    "X_train_qf = qscaler.fit_transform(X_train)\n",
    "X_test_qf = qscaler.transform(X_test)\n",
    "\n",
    "# Robust Scalar\n",
    "rscaler = RobustScaler(with_scaling=True)\n",
    "X_train_rs = rscaler.fit_transform(X_train)\n",
    "X_test_rs = rscaler.transform(X_test)"
   ]
  },
  {
   "cell_type": "markdown",
   "id": "369f9ed8",
   "metadata": {
    "id": "369f9ed8"
   },
   "source": [
    "## *Fitting Models on both real data and SMOTE generated data*"
   ]
  },
  {
   "cell_type": "code",
   "execution_count": null,
   "id": "5de9c3c3",
   "metadata": {
    "colab": {
     "base_uri": "https://localhost:8080/"
    },
    "executionInfo": {
     "elapsed": 14296,
     "status": "ok",
     "timestamp": 1670001364332,
     "user": {
      "displayName": "KUMAR AMAN",
      "userId": "15083373476895626314"
     },
     "user_tz": -330
    },
    "id": "5de9c3c3",
    "outputId": "1cb7d4eb-1643-422c-fe24-c3a3bb71c99f"
   },
   "outputs": [
    {
     "name": "stdout",
     "output_type": "stream",
     "text": [
      "Accuracy is 99.03025249687325\n",
      "Confusion Matrix\n",
      "[[     0   1605]\n",
      " [     0 163902]]\n"
     ]
    },
    {
     "name": "stderr",
     "output_type": "stream",
     "text": [
      "/usr/local/lib/python3.8/dist-packages/sklearn/linear_model/_logistic.py:814: ConvergenceWarning: lbfgs failed to converge (status=1):\n",
      "STOP: TOTAL NO. of ITERATIONS REACHED LIMIT.\n",
      "\n",
      "Increase the number of iterations (max_iter) or scale the data as shown in:\n",
      "    https://scikit-learn.org/stable/modules/preprocessing.html\n",
      "Please also refer to the documentation for alternative solver options:\n",
      "    https://scikit-learn.org/stable/modules/linear_model.html#logistic-regression\n",
      "  n_iter_i = _check_optimize_result(\n"
     ]
    }
   ],
   "source": [
    "from sklearn.metrics import confusion_matrix, accuracy_score\n",
    "logistic_model = LogisticRegression()\n",
    "logistic_model.fit(X_train, y_train)\n",
    "y_pred = logistic_model.predict(X_test)\n",
    "\n",
    "accuracy = accuracy_score(y_test,y_pred)*100\n",
    "confusion_mat = confusion_matrix(y_test,y_pred)\n",
    "\n",
    "print(\"Accuracy is\",accuracy)\n",
    "print(\"Confusion Matrix\")\n",
    "print(confusion_mat)"
   ]
  },
  {
   "cell_type": "code",
   "execution_count": null,
   "id": "b8bf8207",
   "metadata": {
    "colab": {
     "base_uri": "https://localhost:8080/"
    },
    "executionInfo": {
     "elapsed": 1949,
     "status": "ok",
     "timestamp": 1670001406499,
     "user": {
      "displayName": "KUMAR AMAN",
      "userId": "15083373476895626314"
     },
     "user_tz": -330
    },
    "id": "b8bf8207",
    "outputId": "a2794c0b-5a56-4618-9584-dac1b3d39a9d"
   },
   "outputs": [
    {
     "name": "stdout",
     "output_type": "stream",
     "text": [
      "Accuracy is 99.03025249687325\n",
      "Confusion Matrix\n",
      "[[     0   1605]\n",
      " [     0 163902]]\n"
     ]
    }
   ],
   "source": [
    "## Standard Scaler\n",
    "from sklearn.metrics import confusion_matrix, accuracy_score\n",
    "logistic_model = LogisticRegression()\n",
    "logistic_model.fit(X_train_ss, y_train)\n",
    "y_pred = logistic_model.predict(X_test_ss)\n",
    "\n",
    "accuracy = accuracy_score(y_test,y_pred)*100\n",
    "confusion_mat = confusion_matrix(y_test,y_pred)\n",
    "\n",
    "print(\"Accuracy is\",accuracy)\n",
    "print(\"Confusion Matrix\")\n",
    "print(confusion_mat)"
   ]
  },
  {
   "cell_type": "code",
   "execution_count": null,
   "id": "27663160",
   "metadata": {
    "colab": {
     "base_uri": "https://localhost:8080/"
    },
    "executionInfo": {
     "elapsed": 1106,
     "status": "ok",
     "timestamp": 1670001413573,
     "user": {
      "displayName": "KUMAR AMAN",
      "userId": "15083373476895626314"
     },
     "user_tz": -330
    },
    "id": "27663160",
    "outputId": "00718e7d-07c1-4245-d050-a69b38e83468"
   },
   "outputs": [
    {
     "name": "stdout",
     "output_type": "stream",
     "text": [
      "Accuracy is 99.03025249687325\n",
      "Confusion Matrix\n",
      "[[     0   1605]\n",
      " [     0 163902]]\n"
     ]
    }
   ],
   "source": [
    "## Quantile Scaler\n",
    "from sklearn.metrics import confusion_matrix, accuracy_score\n",
    "logistic_model = LogisticRegression()\n",
    "logistic_model.fit(X_train_qf, y_train)\n",
    "y_pred = logistic_model.predict(X_test_qf)\n",
    "\n",
    "accuracy = accuracy_score(y_test,y_pred)*100\n",
    "confusion_mat = confusion_matrix(y_test,y_pred)\n",
    "\n",
    "print(\"Accuracy is\",accuracy)\n",
    "print(\"Confusion Matrix\")\n",
    "print(confusion_mat)"
   ]
  },
  {
   "cell_type": "code",
   "execution_count": null,
   "id": "556e9dc3",
   "metadata": {
    "id": "556e9dc3"
   },
   "outputs": [],
   "source": [
    "## Decision Tree"
   ]
  },
  {
   "cell_type": "code",
   "execution_count": null,
   "id": "6c4ba149",
   "metadata": {
    "colab": {
     "base_uri": "https://localhost:8080/"
    },
    "executionInfo": {
     "elapsed": 6120,
     "status": "ok",
     "timestamp": 1670001462012,
     "user": {
      "displayName": "KUMAR AMAN",
      "userId": "15083373476895626314"
     },
     "user_tz": -330
    },
    "id": "6c4ba149",
    "outputId": "cb89fafa-d10f-4796-996b-c64e600e09cd"
   },
   "outputs": [
    {
     "name": "stdout",
     "output_type": "stream",
     "text": [
      "[[   255   1350]\n",
      " [  1577 162325]]\n",
      "              precision    recall  f1-score   support\n",
      "\n",
      "           0       0.14      0.16      0.15      1605\n",
      "           1       0.99      0.99      0.99    163902\n",
      "\n",
      "    accuracy                           0.98    165507\n",
      "   macro avg       0.57      0.57      0.57    165507\n",
      "weighted avg       0.98      0.98      0.98    165507\n",
      "\n",
      "Accuracy is 98.23149474040372\n"
     ]
    }
   ],
   "source": [
    "from sklearn.tree import DecisionTreeClassifier\n",
    "classifier = DecisionTreeClassifier()\n",
    "classifier.fit(X_train, y_train)\n",
    "y_pred = classifier.predict(X_test)\n",
    "from sklearn.metrics import classification_report, confusion_matrix\n",
    "print(confusion_matrix(y_test, y_pred))\n",
    "print(classification_report(y_test, y_pred))\n",
    "accuracy = accuracy_score(y_test,y_pred)*100\n",
    "print(\"Accuracy is\",accuracy)"
   ]
  },
  {
   "cell_type": "markdown",
   "id": "fc04a5fe",
   "metadata": {
    "id": "fc04a5fe"
   },
   "source": [
    "## *UPSAMPLING DATA TO PREVENT OVERFITTING*"
   ]
  },
  {
   "cell_type": "code",
   "execution_count": null,
   "id": "6ac174a6",
   "metadata": {
    "colab": {
     "base_uri": "https://localhost:8080/"
    },
    "executionInfo": {
     "elapsed": 4682,
     "status": "ok",
     "timestamp": 1670001498791,
     "user": {
      "displayName": "KUMAR AMAN",
      "userId": "15083373476895626314"
     },
     "user_tz": -330
    },
    "id": "6ac174a6",
    "outputId": "49bf422e-077f-4f11-ef71-1832e61bfc74"
   },
   "outputs": [
    {
     "name": "stdout",
     "output_type": "stream",
     "text": [
      "Looking in indexes: https://pypi.org/simple, https://us-python.pkg.dev/colab-wheels/public/simple/\n",
      "Requirement already satisfied: imblearn in /usr/local/lib/python3.8/dist-packages (0.0)\n",
      "Requirement already satisfied: imbalanced-learn in /usr/local/lib/python3.8/dist-packages (from imblearn) (0.8.1)\n",
      "Requirement already satisfied: joblib>=0.11 in /usr/local/lib/python3.8/dist-packages (from imbalanced-learn->imblearn) (1.2.0)\n",
      "Requirement already satisfied: scikit-learn>=0.24 in /usr/local/lib/python3.8/dist-packages (from imbalanced-learn->imblearn) (1.0.2)\n",
      "Requirement already satisfied: numpy>=1.13.3 in /usr/local/lib/python3.8/dist-packages (from imbalanced-learn->imblearn) (1.21.6)\n",
      "Requirement already satisfied: scipy>=0.19.1 in /usr/local/lib/python3.8/dist-packages (from imbalanced-learn->imblearn) (1.7.3)\n",
      "Requirement already satisfied: threadpoolctl>=2.0.0 in /usr/local/lib/python3.8/dist-packages (from scikit-learn>=0.24->imbalanced-learn->imblearn) (3.1.0)\n"
     ]
    }
   ],
   "source": [
    "# Using Imblearn\n",
    "!pip install imblearn"
   ]
  },
  {
   "cell_type": "code",
   "execution_count": null,
   "id": "245e3082",
   "metadata": {
    "id": "245e3082"
   },
   "outputs": [],
   "source": [
    "from imblearn.over_sampling import SMOTE\n",
    "smote  = SMOTE()"
   ]
  },
  {
   "cell_type": "code",
   "execution_count": null,
   "id": "902f6a07",
   "metadata": {
    "id": "902f6a07"
   },
   "outputs": [],
   "source": [
    "X_train_smote,y_train_smote = smote.fit_resample(X_train.astype('float'),y_train)"
   ]
  },
  {
   "cell_type": "code",
   "execution_count": null,
   "id": "8144e69d",
   "metadata": {
    "colab": {
     "base_uri": "https://localhost:8080/"
    },
    "executionInfo": {
     "elapsed": 3,
     "status": "ok",
     "timestamp": 1670001509425,
     "user": {
      "displayName": "KUMAR AMAN",
      "userId": "15083373476895626314"
     },
     "user_tz": -330
    },
    "id": "8144e69d",
    "outputId": "8c94a3ff-f61c-4dde-a06f-2584613760d0"
   },
   "outputs": [
    {
     "name": "stdout",
     "output_type": "stream",
     "text": [
      "Before smote : Counter({1: 655650, 0: 6377})\n",
      "After smote : Counter({1: 655650, 0: 655650})\n"
     ]
    }
   ],
   "source": [
    "from collections import Counter\n",
    "print(\"Before smote :\",Counter(y_train))\n",
    "print(\"After smote :\",Counter(y_train_smote))"
   ]
  },
  {
   "cell_type": "code",
   "execution_count": null,
   "id": "f5d351f1",
   "metadata": {
    "colab": {
     "base_uri": "https://localhost:8080/"
    },
    "executionInfo": {
     "elapsed": 16737,
     "status": "ok",
     "timestamp": 1670001628630,
     "user": {
      "displayName": "KUMAR AMAN",
      "userId": "15083373476895626314"
     },
     "user_tz": -330
    },
    "id": "f5d351f1",
    "outputId": "95d76276-cb52-4807-ac94-5439efd51217"
   },
   "outputs": [
    {
     "name": "stdout",
     "output_type": "stream",
     "text": [
      "Accuracy is 70.21938649120581\n",
      "Confusion Matrix\n",
      "[[   954    651]\n",
      " [ 48638 115264]]\n"
     ]
    }
   ],
   "source": [
    "from sklearn.metrics import confusion_matrix, accuracy_score\n",
    "logistic_model = LogisticRegression()\n",
    "logistic_model.fit(X_train_smote, y_train_smote)\n",
    "y_pred = logistic_model.predict(X_test)\n",
    "\n",
    "accuracy = accuracy_score(y_test,y_pred)*100\n",
    "confusion_mat = confusion_matrix(y_test,y_pred)\n",
    "\n",
    "print(\"Accuracy is\",accuracy)\n",
    "print(\"Confusion Matrix\")\n",
    "print(confusion_mat)"
   ]
  },
  {
   "cell_type": "code",
   "execution_count": null,
   "id": "9aa30dc2",
   "metadata": {
    "colab": {
     "base_uri": "https://localhost:8080/"
    },
    "executionInfo": {
     "elapsed": 28075,
     "status": "ok",
     "timestamp": 1670001661059,
     "user": {
      "displayName": "KUMAR AMAN",
      "userId": "15083373476895626314"
     },
     "user_tz": -330
    },
    "id": "9aa30dc2",
    "outputId": "ce613199-b8fb-4298-d9f4-f0912d408b81"
   },
   "outputs": [
    {
     "name": "stdout",
     "output_type": "stream",
     "text": [
      "[[   353   1252]\n",
      " [  3959 159943]]\n",
      "              precision    recall  f1-score   support\n",
      "\n",
      "           0       0.08      0.22      0.12      1605\n",
      "           1       0.99      0.98      0.98    163902\n",
      "\n",
      "    accuracy                           0.97    165507\n",
      "   macro avg       0.54      0.60      0.55    165507\n",
      "weighted avg       0.98      0.97      0.98    165507\n",
      "\n",
      "Accuracy is 96.85149268610995\n"
     ]
    }
   ],
   "source": [
    "from sklearn.tree import DecisionTreeClassifier\n",
    "classifier = DecisionTreeClassifier()\n",
    "classifier.fit(X_train_smote, y_train_smote)\n",
    "y_pred = classifier.predict(X_test)\n",
    "\n",
    "from sklearn.metrics import classification_report, confusion_matrix\n",
    "print(confusion_matrix(y_test, y_pred))\n",
    "print(classification_report(y_test, y_pred))\n",
    "accuracy = accuracy_score(y_test,y_pred)*100\n",
    "print(\"Accuracy is\",accuracy)"
   ]
  },
  {
   "cell_type": "code",
   "execution_count": null,
   "id": "4fdea151",
   "metadata": {
    "id": "4fdea151"
   },
   "outputs": [],
   "source": [
    "# Random Forest Classifier"
   ]
  },
  {
   "cell_type": "code",
   "execution_count": null,
   "id": "1c3c6ea9",
   "metadata": {
    "colab": {
     "base_uri": "https://localhost:8080/"
    },
    "executionInfo": {
     "elapsed": 40475,
     "status": "ok",
     "timestamp": 1670001762794,
     "user": {
      "displayName": "KUMAR AMAN",
      "userId": "15083373476895626314"
     },
     "user_tz": -330
    },
    "id": "1c3c6ea9",
    "outputId": "32c852f9-56c1-4f97-b8d5-462f8f98a4ff"
   },
   "outputs": [
    {
     "data": {
      "text/plain": [
       "0.9911604947222776"
      ]
     },
     "execution_count": 96,
     "metadata": {},
     "output_type": "execute_result"
    }
   ],
   "source": [
    "# without upsampling\n",
    "from sklearn.ensemble import RandomForestClassifier\n",
    "\n",
    "random_forest = RandomForestClassifier(n_estimators=30, max_depth=10, random_state=1)\n",
    "random_forest.fit(X_train, y_train)\n",
    "from sklearn.metrics import accuracy_score\n",
    "\n",
    "y_predict = random_forest.predict(X_test)\n",
    "accuracy_score(y_test, y_predict)"
   ]
  },
  {
   "cell_type": "code",
   "execution_count": null,
   "id": "fafba777",
   "metadata": {
    "colab": {
     "base_uri": "https://localhost:8080/"
    },
    "executionInfo": {
     "elapsed": 101422,
     "status": "ok",
     "timestamp": 1670001867840,
     "user": {
      "displayName": "KUMAR AMAN",
      "userId": "15083373476895626314"
     },
     "user_tz": -330
    },
    "id": "fafba777",
    "outputId": "e2fd628b-afff-4321-c1d0-dfb9b933c345"
   },
   "outputs": [
    {
     "data": {
      "text/plain": [
       "0.8970738397771696"
      ]
     },
     "execution_count": 97,
     "metadata": {},
     "output_type": "execute_result"
    }
   ],
   "source": [
    "# with upsampling\n",
    "from sklearn.ensemble import RandomForestClassifier\n",
    "\n",
    "random_forest = RandomForestClassifier(n_estimators=30, max_depth=10, random_state=1)\n",
    "random_forest.fit(X_train_smote, y_train_smote)\n",
    "from sklearn.metrics import accuracy_score\n",
    "\n",
    "y_predict = random_forest.predict(X_test)\n",
    "accuracy_score(y_test, y_predict)"
   ]
  },
  {
   "cell_type": "code",
   "execution_count": null,
   "id": "5d2f79b9",
   "metadata": {
    "id": "5d2f79b9"
   },
   "outputs": [],
   "source": [
    "## Gradient Boosting"
   ]
  },
  {
   "cell_type": "code",
   "execution_count": null,
   "id": "caf317ee",
   "metadata": {
    "id": "caf317ee"
   },
   "outputs": [],
   "source": [
    "import pandas as pd\n",
    "from sklearn.preprocessing import MinMaxScaler\n",
    "from sklearn.model_selection import train_test_split\n",
    "from sklearn.metrics import classification_report, confusion_matrix\n",
    "from sklearn.ensemble import GradientBoostingClassifier"
   ]
  },
  {
   "cell_type": "code",
   "execution_count": null,
   "id": "45e49503",
   "metadata": {
    "colab": {
     "base_uri": "https://localhost:8080/"
    },
    "executionInfo": {
     "elapsed": 56624,
     "status": "ok",
     "timestamp": 1670001965529,
     "user": {
      "displayName": "KUMAR AMAN",
      "userId": "15083373476895626314"
     },
     "user_tz": -330
    },
    "id": "45e49503",
    "outputId": "708f4965-bffb-4cbc-afe4-e9d2a3c045b0"
   },
   "outputs": [
    {
     "name": "stdout",
     "output_type": "stream",
     "text": [
      "Learning rate:  0.05\n",
      "Accuracy score (training): 0.990\n",
      "Accuracy score (validation): 0.990\n",
      "Learning rate:  0.075\n",
      "Accuracy score (training): 0.990\n",
      "Accuracy score (validation): 0.990\n",
      "Learning rate:  0.1\n",
      "Accuracy score (training): 0.990\n",
      "Accuracy score (validation): 0.990\n",
      "Learning rate:  0.25\n",
      "Accuracy score (training): 0.990\n",
      "Accuracy score (validation): 0.990\n",
      "Learning rate:  0.5\n",
      "Accuracy score (training): 0.990\n",
      "Accuracy score (validation): 0.990\n",
      "Learning rate:  0.75\n",
      "Accuracy score (training): 0.990\n",
      "Accuracy score (validation): 0.990\n",
      "Learning rate:  1\n",
      "Accuracy score (training): 0.991\n",
      "Accuracy score (validation): 0.991\n"
     ]
    }
   ],
   "source": [
    "# without upsampling\n",
    "lr_list = [0.05, 0.075, 0.1, 0.25, 0.5, 0.75, 1]\n",
    "\n",
    "for learning_rate in lr_list:\n",
    "    gb_clf = GradientBoostingClassifier(n_estimators=20, learning_rate=learning_rate, max_features=2, max_depth=2, random_state=0)\n",
    "    gb_clf.fit(X_train, y_train)\n",
    "\n",
    "    print(\"Learning rate: \", learning_rate)\n",
    "    print(\"Accuracy score (training): {0:.3f}\".format(gb_clf.score(X_train, y_train)))\n",
    "    print(\"Accuracy score (validation): {0:.3f}\".format(gb_clf.score(X_test, y_test)))"
   ]
  },
  {
   "cell_type": "code",
   "execution_count": null,
   "id": "80b417d1",
   "metadata": {
    "colab": {
     "base_uri": "https://localhost:8080/"
    },
    "executionInfo": {
     "elapsed": 8100,
     "status": "ok",
     "timestamp": 1670002012804,
     "user": {
      "displayName": "KUMAR AMAN",
      "userId": "15083373476895626314"
     },
     "user_tz": -330
    },
    "id": "80b417d1",
    "outputId": "a911feb2-0239-4db2-c453-23603ab51def"
   },
   "outputs": [
    {
     "name": "stdout",
     "output_type": "stream",
     "text": [
      "Confusion Matrix:\n",
      "[[    16   1589]\n",
      " [    13 163889]]\n",
      "Classification Report\n",
      "              precision    recall  f1-score   support\n",
      "\n",
      "           0       0.55      0.01      0.02      1605\n",
      "           1       0.99      1.00      1.00    163902\n",
      "\n",
      "    accuracy                           0.99    165507\n",
      "   macro avg       0.77      0.50      0.51    165507\n",
      "weighted avg       0.99      0.99      0.99    165507\n",
      "\n"
     ]
    }
   ],
   "source": [
    "gb_clf2 = GradientBoostingClassifier(n_estimators=20, learning_rate=0.5, max_features=2, max_depth=2, random_state=0)\n",
    "gb_clf2.fit(X_train, y_train)\n",
    "predictions = gb_clf2.predict(X_test)\n",
    "\n",
    "print(\"Confusion Matrix:\")\n",
    "print(confusion_matrix(y_test, predictions))\n",
    "\n",
    "print(\"Classification Report\")\n",
    "print(classification_report(y_test, predictions))"
   ]
  },
  {
   "cell_type": "code",
   "execution_count": null,
   "id": "a5203e82",
   "metadata": {
    "colab": {
     "base_uri": "https://localhost:8080/"
    },
    "executionInfo": {
     "elapsed": 149598,
     "status": "ok",
     "timestamp": 1670002162398,
     "user": {
      "displayName": "KUMAR AMAN",
      "userId": "15083373476895626314"
     },
     "user_tz": -330
    },
    "id": "a5203e82",
    "outputId": "db8535e5-7c03-477f-ea28-195e1b8804ad"
   },
   "outputs": [
    {
     "name": "stdout",
     "output_type": "stream",
     "text": [
      "Learning rate:  0.05\n",
      "Accuracy score (training): 0.718\n",
      "Accuracy score (validation): 0.719\n",
      "Learning rate:  0.075\n",
      "Accuracy score (training): 0.720\n",
      "Accuracy score (validation): 0.720\n",
      "Learning rate:  0.1\n",
      "Accuracy score (training): 0.721\n",
      "Accuracy score (validation): 0.722\n",
      "Learning rate:  0.25\n",
      "Accuracy score (training): 0.768\n",
      "Accuracy score (validation): 0.770\n",
      "Learning rate:  0.5\n",
      "Accuracy score (training): 0.839\n",
      "Accuracy score (validation): 0.840\n",
      "Learning rate:  0.75\n",
      "Accuracy score (training): 0.827\n",
      "Accuracy score (validation): 0.828\n",
      "Learning rate:  1\n",
      "Accuracy score (training): 0.851\n",
      "Accuracy score (validation): 0.852\n"
     ]
    }
   ],
   "source": [
    "# with upsampling\n",
    "lr_list = [0.05, 0.075, 0.1, 0.25, 0.5, 0.75, 1]\n",
    "\n",
    "for learning_rate in lr_list:\n",
    "    gb_clf = GradientBoostingClassifier(n_estimators=20, learning_rate=learning_rate, max_features=2, max_depth=2, random_state=0)\n",
    "    gb_clf.fit(X_train_smote, y_train_smote)\n",
    "\n",
    "    print(\"Learning rate: \", learning_rate)\n",
    "    print(\"Accuracy score (training): {0:.3f}\".format(gb_clf.score(X_train, y_train)))\n",
    "    print(\"Accuracy score (validation): {0:.3f}\".format(gb_clf.score(X_test, y_test)))"
   ]
  },
  {
   "cell_type": "code",
   "execution_count": null,
   "id": "8b075d95",
   "metadata": {
    "colab": {
     "base_uri": "https://localhost:8080/"
    },
    "executionInfo": {
     "elapsed": 22516,
     "status": "ok",
     "timestamp": 1670002190116,
     "user": {
      "displayName": "KUMAR AMAN",
      "userId": "15083373476895626314"
     },
     "user_tz": -330
    },
    "id": "8b075d95",
    "outputId": "4517807b-e5c8-41aa-fa5c-92495bd83829"
   },
   "outputs": [
    {
     "name": "stdout",
     "output_type": "stream",
     "text": [
      "Confusion Matrix:\n",
      "[[   877    728]\n",
      " [ 25741 138161]]\n",
      "Classification Report\n",
      "              precision    recall  f1-score   support\n",
      "\n",
      "           0       0.03      0.55      0.06      1605\n",
      "           1       0.99      0.84      0.91    163902\n",
      "\n",
      "    accuracy                           0.84    165507\n",
      "   macro avg       0.51      0.69      0.49    165507\n",
      "weighted avg       0.99      0.84      0.90    165507\n",
      "\n"
     ]
    }
   ],
   "source": [
    "gb_clf2 = GradientBoostingClassifier(n_estimators=20, learning_rate=0.5, max_features=2, max_depth=2, random_state=0)\n",
    "gb_clf2.fit(X_train_smote, y_train_smote)\n",
    "predictions = gb_clf2.predict(X_test)\n",
    "\n",
    "print(\"Confusion Matrix:\")\n",
    "print(confusion_matrix(y_test, predictions))\n",
    "\n",
    "print(\"Classification Report\")\n",
    "print(classification_report(y_test, predictions))"
   ]
  },
  {
   "cell_type": "code",
   "execution_count": null,
   "id": "1e2490f6",
   "metadata": {
    "id": "1e2490f6"
   },
   "outputs": [],
   "source": [
    "## XG BOOST"
   ]
  },
  {
   "cell_type": "code",
   "execution_count": null,
   "id": "30884ffd",
   "metadata": {
    "colab": {
     "base_uri": "https://localhost:8080/"
    },
    "executionInfo": {
     "elapsed": 7216,
     "status": "ok",
     "timestamp": 1670002234401,
     "user": {
      "displayName": "KUMAR AMAN",
      "userId": "15083373476895626314"
     },
     "user_tz": -330
    },
    "id": "30884ffd",
    "outputId": "116c9b3c-40fc-45b0-dc9c-e0cd3079bc07"
   },
   "outputs": [
    {
     "name": "stdout",
     "output_type": "stream",
     "text": [
      "Looking in indexes: https://pypi.org/simple, https://us-python.pkg.dev/colab-wheels/public/simple/\n",
      "Requirement already satisfied: xgboost in /usr/local/lib/python3.8/dist-packages (0.90)\n",
      "Requirement already satisfied: numpy in /usr/local/lib/python3.8/dist-packages (from xgboost) (1.21.6)\n",
      "Requirement already satisfied: scipy in /usr/local/lib/python3.8/dist-packages (from xgboost) (1.7.3)\n"
     ]
    }
   ],
   "source": [
    "!pip install xgboost"
   ]
  },
  {
   "cell_type": "code",
   "execution_count": null,
   "id": "162be1b5",
   "metadata": {
    "colab": {
     "base_uri": "https://localhost:8080/"
    },
    "executionInfo": {
     "elapsed": 52302,
     "status": "ok",
     "timestamp": 1670002298515,
     "user": {
      "displayName": "KUMAR AMAN",
      "userId": "15083373476895626314"
     },
     "user_tz": -330
    },
    "id": "162be1b5",
    "outputId": "e56c59e4-13ab-4b89-9fb9-a33db7666517"
   },
   "outputs": [
    {
     "name": "stdout",
     "output_type": "stream",
     "text": [
      "0.9912813355326361\n"
     ]
    }
   ],
   "source": [
    "# without upsampling\n",
    "from xgboost import XGBClassifier\n",
    "xgb_clf = XGBClassifier()\n",
    "xgb_clf.fit(X_train, y_train)\n",
    "score = xgb_clf.score(X_test, y_test)\n",
    "print(score)"
   ]
  },
  {
   "cell_type": "code",
   "execution_count": null,
   "id": "7bd3a3f6",
   "metadata": {
    "colab": {
     "base_uri": "https://localhost:8080/"
    },
    "executionInfo": {
     "elapsed": 108299,
     "status": "ok",
     "timestamp": 1670002425408,
     "user": {
      "displayName": "KUMAR AMAN",
      "userId": "15083373476895626314"
     },
     "user_tz": -330
    },
    "id": "7bd3a3f6",
    "outputId": "6551d23e-ce6b-41c9-dd69-782ffc21da0f"
   },
   "outputs": [
    {
     "name": "stdout",
     "output_type": "stream",
     "text": [
      "0.817753931857867\n"
     ]
    }
   ],
   "source": [
    "# with upsampling\n",
    "from xgboost import XGBClassifier\n",
    "xgb_clf = XGBClassifier()\n",
    "xgb_clf.fit(X_train_smote, y_train_smote)\n",
    "score = xgb_clf.score(X_test, y_test)\n",
    "print(score)"
   ]
  },
  {
   "cell_type": "code",
   "execution_count": null,
   "id": "99ccf944",
   "metadata": {
    "id": "99ccf944"
   },
   "outputs": [],
   "source": []
  },
  {
   "cell_type": "code",
   "execution_count": null,
   "id": "57462bec",
   "metadata": {
    "colab": {
     "base_uri": "https://localhost:8080/",
     "height": 424
    },
    "executionInfo": {
     "elapsed": 4,
     "status": "ok",
     "timestamp": 1670002489875,
     "user": {
      "displayName": "KUMAR AMAN",
      "userId": "15083373476895626314"
     },
     "user_tz": -330
    },
    "id": "57462bec",
    "outputId": "72ccc90b-ba6e-43cd-cacb-2c46538d7ec1"
   },
   "outputs": [
    {
     "data": {
      "text/html": [
       "\n",
       "  <div id=\"df-f7805daa-c693-4df7-9241-a9760fd10a2e\">\n",
       "    <div class=\"colab-df-container\">\n",
       "      <div>\n",
       "<style scoped>\n",
       "    .dataframe tbody tr th:only-of-type {\n",
       "        vertical-align: middle;\n",
       "    }\n",
       "\n",
       "    .dataframe tbody tr th {\n",
       "        vertical-align: top;\n",
       "    }\n",
       "\n",
       "    .dataframe thead th {\n",
       "        text-align: right;\n",
       "    }\n",
       "</style>\n",
       "<table border=\"1\" class=\"dataframe\">\n",
       "  <thead>\n",
       "    <tr style=\"text-align: right;\">\n",
       "      <th></th>\n",
       "      <th>Current</th>\n",
       "      <th>Humidity</th>\n",
       "      <th>Temperature</th>\n",
       "      <th>Flow</th>\n",
       "      <th>Job Temp</th>\n",
       "      <th>Voltage</th>\n",
       "    </tr>\n",
       "  </thead>\n",
       "  <tbody>\n",
       "    <tr>\n",
       "      <th>0</th>\n",
       "      <td>5.480000</td>\n",
       "      <td>66.000000</td>\n",
       "      <td>26.000000</td>\n",
       "      <td>0.000000</td>\n",
       "      <td>34.000000</td>\n",
       "      <td>10.183000</td>\n",
       "    </tr>\n",
       "    <tr>\n",
       "      <th>1</th>\n",
       "      <td>4.310000</td>\n",
       "      <td>78.000000</td>\n",
       "      <td>24.000000</td>\n",
       "      <td>0.000000</td>\n",
       "      <td>29.600000</td>\n",
       "      <td>0.000000</td>\n",
       "    </tr>\n",
       "    <tr>\n",
       "      <th>2</th>\n",
       "      <td>-1.220000</td>\n",
       "      <td>82.000000</td>\n",
       "      <td>25.000000</td>\n",
       "      <td>0.970000</td>\n",
       "      <td>31.200000</td>\n",
       "      <td>0.000000</td>\n",
       "    </tr>\n",
       "    <tr>\n",
       "      <th>3</th>\n",
       "      <td>24.980000</td>\n",
       "      <td>77.000000</td>\n",
       "      <td>24.000000</td>\n",
       "      <td>0.000000</td>\n",
       "      <td>42.600000</td>\n",
       "      <td>10.282000</td>\n",
       "    </tr>\n",
       "    <tr>\n",
       "      <th>4</th>\n",
       "      <td>3.100000</td>\n",
       "      <td>79.000000</td>\n",
       "      <td>24.000000</td>\n",
       "      <td>0.060000</td>\n",
       "      <td>29.100000</td>\n",
       "      <td>0.000000</td>\n",
       "    </tr>\n",
       "    <tr>\n",
       "      <th>...</th>\n",
       "      <td>...</td>\n",
       "      <td>...</td>\n",
       "      <td>...</td>\n",
       "      <td>...</td>\n",
       "      <td>...</td>\n",
       "      <td>...</td>\n",
       "    </tr>\n",
       "    <tr>\n",
       "      <th>1311295</th>\n",
       "      <td>22.902727</td>\n",
       "      <td>85.000000</td>\n",
       "      <td>25.000000</td>\n",
       "      <td>2.757182</td>\n",
       "      <td>30.670302</td>\n",
       "      <td>11.075891</td>\n",
       "    </tr>\n",
       "    <tr>\n",
       "      <th>1311296</th>\n",
       "      <td>-0.050161</td>\n",
       "      <td>78.074598</td>\n",
       "      <td>23.000000</td>\n",
       "      <td>3.720322</td>\n",
       "      <td>29.014920</td>\n",
       "      <td>0.000000</td>\n",
       "    </tr>\n",
       "    <tr>\n",
       "      <th>1311297</th>\n",
       "      <td>32.145317</td>\n",
       "      <td>78.707990</td>\n",
       "      <td>23.853995</td>\n",
       "      <td>0.000000</td>\n",
       "      <td>32.014601</td>\n",
       "      <td>-0.321348</td>\n",
       "    </tr>\n",
       "    <tr>\n",
       "      <th>1311298</th>\n",
       "      <td>24.500686</td>\n",
       "      <td>79.000000</td>\n",
       "      <td>24.000000</td>\n",
       "      <td>4.841601</td>\n",
       "      <td>30.800000</td>\n",
       "      <td>9.982183</td>\n",
       "    </tr>\n",
       "    <tr>\n",
       "      <th>1311299</th>\n",
       "      <td>31.297980</td>\n",
       "      <td>79.000000</td>\n",
       "      <td>23.000000</td>\n",
       "      <td>0.000000</td>\n",
       "      <td>38.282123</td>\n",
       "      <td>8.046704</td>\n",
       "    </tr>\n",
       "  </tbody>\n",
       "</table>\n",
       "<p>1311300 rows × 6 columns</p>\n",
       "</div>\n",
       "      <button class=\"colab-df-convert\" onclick=\"convertToInteractive('df-f7805daa-c693-4df7-9241-a9760fd10a2e')\"\n",
       "              title=\"Convert this dataframe to an interactive table.\"\n",
       "              style=\"display:none;\">\n",
       "        \n",
       "  <svg xmlns=\"http://www.w3.org/2000/svg\" height=\"24px\"viewBox=\"0 0 24 24\"\n",
       "       width=\"24px\">\n",
       "    <path d=\"M0 0h24v24H0V0z\" fill=\"none\"/>\n",
       "    <path d=\"M18.56 5.44l.94 2.06.94-2.06 2.06-.94-2.06-.94-.94-2.06-.94 2.06-2.06.94zm-11 1L8.5 8.5l.94-2.06 2.06-.94-2.06-.94L8.5 2.5l-.94 2.06-2.06.94zm10 10l.94 2.06.94-2.06 2.06-.94-2.06-.94-.94-2.06-.94 2.06-2.06.94z\"/><path d=\"M17.41 7.96l-1.37-1.37c-.4-.4-.92-.59-1.43-.59-.52 0-1.04.2-1.43.59L10.3 9.45l-7.72 7.72c-.78.78-.78 2.05 0 2.83L4 21.41c.39.39.9.59 1.41.59.51 0 1.02-.2 1.41-.59l7.78-7.78 2.81-2.81c.8-.78.8-2.07 0-2.86zM5.41 20L4 18.59l7.72-7.72 1.47 1.35L5.41 20z\"/>\n",
       "  </svg>\n",
       "      </button>\n",
       "      \n",
       "  <style>\n",
       "    .colab-df-container {\n",
       "      display:flex;\n",
       "      flex-wrap:wrap;\n",
       "      gap: 12px;\n",
       "    }\n",
       "\n",
       "    .colab-df-convert {\n",
       "      background-color: #E8F0FE;\n",
       "      border: none;\n",
       "      border-radius: 50%;\n",
       "      cursor: pointer;\n",
       "      display: none;\n",
       "      fill: #1967D2;\n",
       "      height: 32px;\n",
       "      padding: 0 0 0 0;\n",
       "      width: 32px;\n",
       "    }\n",
       "\n",
       "    .colab-df-convert:hover {\n",
       "      background-color: #E2EBFA;\n",
       "      box-shadow: 0px 1px 2px rgba(60, 64, 67, 0.3), 0px 1px 3px 1px rgba(60, 64, 67, 0.15);\n",
       "      fill: #174EA6;\n",
       "    }\n",
       "\n",
       "    [theme=dark] .colab-df-convert {\n",
       "      background-color: #3B4455;\n",
       "      fill: #D2E3FC;\n",
       "    }\n",
       "\n",
       "    [theme=dark] .colab-df-convert:hover {\n",
       "      background-color: #434B5C;\n",
       "      box-shadow: 0px 1px 3px 1px rgba(0, 0, 0, 0.15);\n",
       "      filter: drop-shadow(0px 1px 2px rgba(0, 0, 0, 0.3));\n",
       "      fill: #FFFFFF;\n",
       "    }\n",
       "  </style>\n",
       "\n",
       "      <script>\n",
       "        const buttonEl =\n",
       "          document.querySelector('#df-f7805daa-c693-4df7-9241-a9760fd10a2e button.colab-df-convert');\n",
       "        buttonEl.style.display =\n",
       "          google.colab.kernel.accessAllowed ? 'block' : 'none';\n",
       "\n",
       "        async function convertToInteractive(key) {\n",
       "          const element = document.querySelector('#df-f7805daa-c693-4df7-9241-a9760fd10a2e');\n",
       "          const dataTable =\n",
       "            await google.colab.kernel.invokeFunction('convertToInteractive',\n",
       "                                                     [key], {});\n",
       "          if (!dataTable) return;\n",
       "\n",
       "          const docLinkHtml = 'Like what you see? Visit the ' +\n",
       "            '<a target=\"_blank\" href=https://colab.research.google.com/notebooks/data_table.ipynb>data table notebook</a>'\n",
       "            + ' to learn more about interactive tables.';\n",
       "          element.innerHTML = '';\n",
       "          dataTable['output_type'] = 'display_data';\n",
       "          await google.colab.output.renderOutput(dataTable, element);\n",
       "          const docLink = document.createElement('div');\n",
       "          docLink.innerHTML = docLinkHtml;\n",
       "          element.appendChild(docLink);\n",
       "        }\n",
       "      </script>\n",
       "    </div>\n",
       "  </div>\n",
       "  "
      ],
      "text/plain": [
       "           Current   Humidity  Temperature      Flow   Job Temp    Voltage\n",
       "0         5.480000  66.000000    26.000000  0.000000  34.000000  10.183000\n",
       "1         4.310000  78.000000    24.000000  0.000000  29.600000   0.000000\n",
       "2        -1.220000  82.000000    25.000000  0.970000  31.200000   0.000000\n",
       "3        24.980000  77.000000    24.000000  0.000000  42.600000  10.282000\n",
       "4         3.100000  79.000000    24.000000  0.060000  29.100000   0.000000\n",
       "...            ...        ...          ...       ...        ...        ...\n",
       "1311295  22.902727  85.000000    25.000000  2.757182  30.670302  11.075891\n",
       "1311296  -0.050161  78.074598    23.000000  3.720322  29.014920   0.000000\n",
       "1311297  32.145317  78.707990    23.853995  0.000000  32.014601  -0.321348\n",
       "1311298  24.500686  79.000000    24.000000  4.841601  30.800000   9.982183\n",
       "1311299  31.297980  79.000000    23.000000  0.000000  38.282123   8.046704\n",
       "\n",
       "[1311300 rows x 6 columns]"
      ]
     },
     "execution_count": 110,
     "metadata": {},
     "output_type": "execute_result"
    }
   ],
   "source": [
    " X_train_smote"
   ]
  },
  {
   "cell_type": "code",
   "execution_count": null,
   "id": "4bbc293a",
   "metadata": {
    "id": "4bbc293a"
   },
   "outputs": [],
   "source": []
  }
 ],
 "metadata": {
  "colab": {
   "provenance": []
  },
  "kernelspec": {
   "display_name": "Python 3 (ipykernel)",
   "language": "python",
   "name": "python3"
  },
  "language_info": {
   "codemirror_mode": {
    "name": "ipython",
    "version": 3
   },
   "file_extension": ".py",
   "mimetype": "text/x-python",
   "name": "python",
   "nbconvert_exporter": "python",
   "pygments_lexer": "ipython3",
   "version": "3.9.7"
  },
  "varInspector": {
   "cols": {
    "lenName": 16,
    "lenType": 16,
    "lenVar": 40
   },
   "kernels_config": {
    "python": {
     "delete_cmd_postfix": "",
     "delete_cmd_prefix": "del ",
     "library": "var_list.py",
     "varRefreshCmd": "print(var_dic_list())"
    },
    "r": {
     "delete_cmd_postfix": ") ",
     "delete_cmd_prefix": "rm(",
     "library": "var_list.r",
     "varRefreshCmd": "cat(var_dic_list()) "
    }
   },
   "types_to_exclude": [
    "module",
    "function",
    "builtin_function_or_method",
    "instance",
    "_Feature"
   ],
   "window_display": false
  }
 },
 "nbformat": 4,
 "nbformat_minor": 5
}
